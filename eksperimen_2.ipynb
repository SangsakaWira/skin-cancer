{
 "cells": [
  {
   "cell_type": "code",
   "execution_count": 1,
   "metadata": {},
   "outputs": [],
   "source": [
    "#from numpy.random import seed\n",
    "#seed(101)\n",
    "#from tensorflow import set_random_seed\n",
    "#set_random_seed(101)\n",
    "\n",
    "import pandas as pd\n",
    "import numpy as np\n",
    "#import keras\n",
    "#from keras import backend as K\n",
    "\n",
    "import tensorflow\n",
    "from tensorflow.keras.layers import Dense, Dropout\n",
    "from tensorflow.keras.optimizers import Adam\n",
    "from tensorflow.keras.metrics import categorical_crossentropy\n",
    "from tensorflow.keras.preprocessing.image import ImageDataGenerator\n",
    "from tensorflow.keras.models import Model\n",
    "from tensorflow.keras.callbacks import EarlyStopping, ReduceLROnPlateau, ModelCheckpoint\n",
    "\n",
    "import os\n",
    "\n",
    "from sklearn.metrics import confusion_matrix\n",
    "from sklearn.model_selection import train_test_split\n",
    "import itertools\n",
    "import shutil\n",
    "import matplotlib.pyplot as plt\n",
    "%matplotlib inline"
   ]
  },
  {
   "cell_type": "code",
   "execution_count": 3,
   "metadata": {},
   "outputs": [],
   "source": [
    "train_path = 'base_dir/train_dir'\n",
    "valid_path = 'base_dir/val_dir'\n",
    "\n",
    "num_train_samples = 9077\n",
    "num_val_samples = 938\n",
    "train_batch_size = 10\n",
    "val_batch_size = 10\n",
    "image_size = 224\n",
    "\n",
    "train_steps = np.ceil(num_train_samples / train_batch_size)\n",
    "val_steps = np.ceil(num_val_samples / val_batch_size)"
   ]
  },
  {
   "cell_type": "code",
   "execution_count": 4,
   "metadata": {},
   "outputs": [
    {
     "name": "stdout",
     "output_type": "stream",
     "text": [
      "Found 38569 images belonging to 7 classes.\n",
      "Found 938 images belonging to 7 classes.\n",
      "Found 938 images belonging to 7 classes.\n"
     ]
    }
   ],
   "source": [
    "datagen = ImageDataGenerator(\n",
    "    preprocessing_function= \\\n",
    "    tensorflow.keras.applications.mobilenet.preprocess_input)\n",
    "\n",
    "train_batches = datagen.flow_from_directory(train_path,\n",
    "                                            target_size=(image_size,image_size),\n",
    "                                            batch_size=train_batch_size)\n",
    "\n",
    "valid_batches = datagen.flow_from_directory(valid_path,\n",
    "                                            target_size=(image_size,image_size),\n",
    "                                            batch_size=val_batch_size)\n",
    "\n",
    "# Note: shuffle=False causes the test dataset to not be shuffled\n",
    "test_batches = datagen.flow_from_directory(valid_path,\n",
    "                                            target_size=(image_size,image_size),\n",
    "                                            batch_size=1,\n",
    "                                            shuffle=False)"
   ]
  },
  {
   "cell_type": "code",
   "execution_count": 5,
   "metadata": {},
   "outputs": [],
   "source": [
    "# create a copy of a mobilenet model\n",
    "\n",
    "mobile = tensorflow.keras.applications.mobilenet.MobileNet()"
   ]
  },
  {
   "cell_type": "code",
   "execution_count": 6,
   "metadata": {},
   "outputs": [
    {
     "name": "stdout",
     "output_type": "stream",
     "text": [
      "Model: \"mobilenet_1.00_224\"\n",
      "_________________________________________________________________\n",
      "Layer (type)                 Output Shape              Param #   \n",
      "=================================================================\n",
      "input_1 (InputLayer)         [(None, 224, 224, 3)]     0         \n",
      "_________________________________________________________________\n",
      "conv1_pad (ZeroPadding2D)    (None, 225, 225, 3)       0         \n",
      "_________________________________________________________________\n",
      "conv1 (Conv2D)               (None, 112, 112, 32)      864       \n",
      "_________________________________________________________________\n",
      "conv1_bn (BatchNormalization (None, 112, 112, 32)      128       \n",
      "_________________________________________________________________\n",
      "conv1_relu (ReLU)            (None, 112, 112, 32)      0         \n",
      "_________________________________________________________________\n",
      "conv_dw_1 (DepthwiseConv2D)  (None, 112, 112, 32)      288       \n",
      "_________________________________________________________________\n",
      "conv_dw_1_bn (BatchNormaliza (None, 112, 112, 32)      128       \n",
      "_________________________________________________________________\n",
      "conv_dw_1_relu (ReLU)        (None, 112, 112, 32)      0         \n",
      "_________________________________________________________________\n",
      "conv_pw_1 (Conv2D)           (None, 112, 112, 64)      2048      \n",
      "_________________________________________________________________\n",
      "conv_pw_1_bn (BatchNormaliza (None, 112, 112, 64)      256       \n",
      "_________________________________________________________________\n",
      "conv_pw_1_relu (ReLU)        (None, 112, 112, 64)      0         \n",
      "_________________________________________________________________\n",
      "conv_pad_2 (ZeroPadding2D)   (None, 113, 113, 64)      0         \n",
      "_________________________________________________________________\n",
      "conv_dw_2 (DepthwiseConv2D)  (None, 56, 56, 64)        576       \n",
      "_________________________________________________________________\n",
      "conv_dw_2_bn (BatchNormaliza (None, 56, 56, 64)        256       \n",
      "_________________________________________________________________\n",
      "conv_dw_2_relu (ReLU)        (None, 56, 56, 64)        0         \n",
      "_________________________________________________________________\n",
      "conv_pw_2 (Conv2D)           (None, 56, 56, 128)       8192      \n",
      "_________________________________________________________________\n",
      "conv_pw_2_bn (BatchNormaliza (None, 56, 56, 128)       512       \n",
      "_________________________________________________________________\n",
      "conv_pw_2_relu (ReLU)        (None, 56, 56, 128)       0         \n",
      "_________________________________________________________________\n",
      "conv_dw_3 (DepthwiseConv2D)  (None, 56, 56, 128)       1152      \n",
      "_________________________________________________________________\n",
      "conv_dw_3_bn (BatchNormaliza (None, 56, 56, 128)       512       \n",
      "_________________________________________________________________\n",
      "conv_dw_3_relu (ReLU)        (None, 56, 56, 128)       0         \n",
      "_________________________________________________________________\n",
      "conv_pw_3 (Conv2D)           (None, 56, 56, 128)       16384     \n",
      "_________________________________________________________________\n",
      "conv_pw_3_bn (BatchNormaliza (None, 56, 56, 128)       512       \n",
      "_________________________________________________________________\n",
      "conv_pw_3_relu (ReLU)        (None, 56, 56, 128)       0         \n",
      "_________________________________________________________________\n",
      "conv_pad_4 (ZeroPadding2D)   (None, 57, 57, 128)       0         \n",
      "_________________________________________________________________\n",
      "conv_dw_4 (DepthwiseConv2D)  (None, 28, 28, 128)       1152      \n",
      "_________________________________________________________________\n",
      "conv_dw_4_bn (BatchNormaliza (None, 28, 28, 128)       512       \n",
      "_________________________________________________________________\n",
      "conv_dw_4_relu (ReLU)        (None, 28, 28, 128)       0         \n",
      "_________________________________________________________________\n",
      "conv_pw_4 (Conv2D)           (None, 28, 28, 256)       32768     \n",
      "_________________________________________________________________\n",
      "conv_pw_4_bn (BatchNormaliza (None, 28, 28, 256)       1024      \n",
      "_________________________________________________________________\n",
      "conv_pw_4_relu (ReLU)        (None, 28, 28, 256)       0         \n",
      "_________________________________________________________________\n",
      "conv_dw_5 (DepthwiseConv2D)  (None, 28, 28, 256)       2304      \n",
      "_________________________________________________________________\n",
      "conv_dw_5_bn (BatchNormaliza (None, 28, 28, 256)       1024      \n",
      "_________________________________________________________________\n",
      "conv_dw_5_relu (ReLU)        (None, 28, 28, 256)       0         \n",
      "_________________________________________________________________\n",
      "conv_pw_5 (Conv2D)           (None, 28, 28, 256)       65536     \n",
      "_________________________________________________________________\n",
      "conv_pw_5_bn (BatchNormaliza (None, 28, 28, 256)       1024      \n",
      "_________________________________________________________________\n",
      "conv_pw_5_relu (ReLU)        (None, 28, 28, 256)       0         \n",
      "_________________________________________________________________\n",
      "conv_pad_6 (ZeroPadding2D)   (None, 29, 29, 256)       0         \n",
      "_________________________________________________________________\n",
      "conv_dw_6 (DepthwiseConv2D)  (None, 14, 14, 256)       2304      \n",
      "_________________________________________________________________\n",
      "conv_dw_6_bn (BatchNormaliza (None, 14, 14, 256)       1024      \n",
      "_________________________________________________________________\n",
      "conv_dw_6_relu (ReLU)        (None, 14, 14, 256)       0         \n",
      "_________________________________________________________________\n",
      "conv_pw_6 (Conv2D)           (None, 14, 14, 512)       131072    \n",
      "_________________________________________________________________\n",
      "conv_pw_6_bn (BatchNormaliza (None, 14, 14, 512)       2048      \n",
      "_________________________________________________________________\n",
      "conv_pw_6_relu (ReLU)        (None, 14, 14, 512)       0         \n",
      "_________________________________________________________________\n",
      "conv_dw_7 (DepthwiseConv2D)  (None, 14, 14, 512)       4608      \n",
      "_________________________________________________________________\n",
      "conv_dw_7_bn (BatchNormaliza (None, 14, 14, 512)       2048      \n",
      "_________________________________________________________________\n",
      "conv_dw_7_relu (ReLU)        (None, 14, 14, 512)       0         \n",
      "_________________________________________________________________\n",
      "conv_pw_7 (Conv2D)           (None, 14, 14, 512)       262144    \n",
      "_________________________________________________________________\n",
      "conv_pw_7_bn (BatchNormaliza (None, 14, 14, 512)       2048      \n",
      "_________________________________________________________________\n",
      "conv_pw_7_relu (ReLU)        (None, 14, 14, 512)       0         \n",
      "_________________________________________________________________\n",
      "conv_dw_8 (DepthwiseConv2D)  (None, 14, 14, 512)       4608      \n",
      "_________________________________________________________________\n",
      "conv_dw_8_bn (BatchNormaliza (None, 14, 14, 512)       2048      \n",
      "_________________________________________________________________\n",
      "conv_dw_8_relu (ReLU)        (None, 14, 14, 512)       0         \n",
      "_________________________________________________________________\n",
      "conv_pw_8 (Conv2D)           (None, 14, 14, 512)       262144    \n",
      "_________________________________________________________________\n",
      "conv_pw_8_bn (BatchNormaliza (None, 14, 14, 512)       2048      \n",
      "_________________________________________________________________\n",
      "conv_pw_8_relu (ReLU)        (None, 14, 14, 512)       0         \n",
      "_________________________________________________________________\n",
      "conv_dw_9 (DepthwiseConv2D)  (None, 14, 14, 512)       4608      \n",
      "_________________________________________________________________\n",
      "conv_dw_9_bn (BatchNormaliza (None, 14, 14, 512)       2048      \n",
      "_________________________________________________________________\n",
      "conv_dw_9_relu (ReLU)        (None, 14, 14, 512)       0         \n",
      "_________________________________________________________________\n",
      "conv_pw_9 (Conv2D)           (None, 14, 14, 512)       262144    \n",
      "_________________________________________________________________\n",
      "conv_pw_9_bn (BatchNormaliza (None, 14, 14, 512)       2048      \n",
      "_________________________________________________________________\n",
      "conv_pw_9_relu (ReLU)        (None, 14, 14, 512)       0         \n",
      "_________________________________________________________________\n",
      "conv_dw_10 (DepthwiseConv2D) (None, 14, 14, 512)       4608      \n",
      "_________________________________________________________________\n",
      "conv_dw_10_bn (BatchNormaliz (None, 14, 14, 512)       2048      \n",
      "_________________________________________________________________\n",
      "conv_dw_10_relu (ReLU)       (None, 14, 14, 512)       0         \n",
      "_________________________________________________________________\n",
      "conv_pw_10 (Conv2D)          (None, 14, 14, 512)       262144    \n",
      "_________________________________________________________________\n",
      "conv_pw_10_bn (BatchNormaliz (None, 14, 14, 512)       2048      \n",
      "_________________________________________________________________\n",
      "conv_pw_10_relu (ReLU)       (None, 14, 14, 512)       0         \n",
      "_________________________________________________________________\n",
      "conv_dw_11 (DepthwiseConv2D) (None, 14, 14, 512)       4608      \n",
      "_________________________________________________________________\n",
      "conv_dw_11_bn (BatchNormaliz (None, 14, 14, 512)       2048      \n",
      "_________________________________________________________________\n",
      "conv_dw_11_relu (ReLU)       (None, 14, 14, 512)       0         \n",
      "_________________________________________________________________\n",
      "conv_pw_11 (Conv2D)          (None, 14, 14, 512)       262144    \n",
      "_________________________________________________________________\n",
      "conv_pw_11_bn (BatchNormaliz (None, 14, 14, 512)       2048      \n",
      "_________________________________________________________________\n",
      "conv_pw_11_relu (ReLU)       (None, 14, 14, 512)       0         \n",
      "_________________________________________________________________\n",
      "conv_pad_12 (ZeroPadding2D)  (None, 15, 15, 512)       0         \n",
      "_________________________________________________________________\n",
      "conv_dw_12 (DepthwiseConv2D) (None, 7, 7, 512)         4608      \n",
      "_________________________________________________________________\n",
      "conv_dw_12_bn (BatchNormaliz (None, 7, 7, 512)         2048      \n",
      "_________________________________________________________________\n",
      "conv_dw_12_relu (ReLU)       (None, 7, 7, 512)         0         \n",
      "_________________________________________________________________\n",
      "conv_pw_12 (Conv2D)          (None, 7, 7, 1024)        524288    \n",
      "_________________________________________________________________\n",
      "conv_pw_12_bn (BatchNormaliz (None, 7, 7, 1024)        4096      \n",
      "_________________________________________________________________\n",
      "conv_pw_12_relu (ReLU)       (None, 7, 7, 1024)        0         \n",
      "_________________________________________________________________\n",
      "conv_dw_13 (DepthwiseConv2D) (None, 7, 7, 1024)        9216      \n",
      "_________________________________________________________________\n",
      "conv_dw_13_bn (BatchNormaliz (None, 7, 7, 1024)        4096      \n",
      "_________________________________________________________________\n",
      "conv_dw_13_relu (ReLU)       (None, 7, 7, 1024)        0         \n",
      "_________________________________________________________________\n",
      "conv_pw_13 (Conv2D)          (None, 7, 7, 1024)        1048576   \n",
      "_________________________________________________________________\n",
      "conv_pw_13_bn (BatchNormaliz (None, 7, 7, 1024)        4096      \n",
      "_________________________________________________________________\n",
      "conv_pw_13_relu (ReLU)       (None, 7, 7, 1024)        0         \n",
      "_________________________________________________________________\n",
      "global_average_pooling2d (Gl (None, 1024)              0         \n",
      "_________________________________________________________________\n",
      "reshape_1 (Reshape)          (None, 1, 1, 1024)        0         \n",
      "_________________________________________________________________\n",
      "dropout (Dropout)            (None, 1, 1, 1024)        0         \n",
      "_________________________________________________________________\n",
      "conv_preds (Conv2D)          (None, 1, 1, 1000)        1025000   \n",
      "_________________________________________________________________\n",
      "reshape_2 (Reshape)          (None, 1000)              0         \n",
      "_________________________________________________________________\n",
      "predictions (Activation)     (None, 1000)              0         \n",
      "=================================================================\n",
      "Total params: 4,253,864\n",
      "Trainable params: 4,231,976\n",
      "Non-trainable params: 21,888\n",
      "_________________________________________________________________\n"
     ]
    }
   ],
   "source": [
    "mobile.summary()"
   ]
  },
  {
   "cell_type": "code",
   "execution_count": 7,
   "metadata": {},
   "outputs": [
    {
     "data": {
      "text/plain": [
       "93"
      ]
     },
     "execution_count": 7,
     "metadata": {},
     "output_type": "execute_result"
    }
   ],
   "source": [
    "# How many layers does MobileNet have?\n",
    "len(mobile.layers)"
   ]
  },
  {
   "cell_type": "code",
   "execution_count": 8,
   "metadata": {},
   "outputs": [],
   "source": [
    "# CREATE THE MODEL ARCHITECTURE\n",
    "\n",
    "# Exclude the last 5 layers of the above model.\n",
    "# This will include all layers up to and including global_average_pooling2d_1\n",
    "x = mobile.layers[-6].output\n",
    "\n",
    "# Create a new dense layer for predictions\n",
    "# 7 corresponds to the number of classes\n",
    "x = Dropout(0.25)(x)\n",
    "predictions = Dense(7, activation='softmax')(x)\n",
    "\n",
    "# inputs=mobile.input selects the input layer, outputs=predictions refers to the\n",
    "# dense layer we created above.\n",
    "\n",
    "model = Model(inputs=mobile.input, outputs=predictions)"
   ]
  },
  {
   "cell_type": "code",
   "execution_count": 9,
   "metadata": {},
   "outputs": [
    {
     "name": "stdout",
     "output_type": "stream",
     "text": [
      "Model: \"model\"\n",
      "_________________________________________________________________\n",
      "Layer (type)                 Output Shape              Param #   \n",
      "=================================================================\n",
      "input_1 (InputLayer)         [(None, 224, 224, 3)]     0         \n",
      "_________________________________________________________________\n",
      "conv1_pad (ZeroPadding2D)    (None, 225, 225, 3)       0         \n",
      "_________________________________________________________________\n",
      "conv1 (Conv2D)               (None, 112, 112, 32)      864       \n",
      "_________________________________________________________________\n",
      "conv1_bn (BatchNormalization (None, 112, 112, 32)      128       \n",
      "_________________________________________________________________\n",
      "conv1_relu (ReLU)            (None, 112, 112, 32)      0         \n",
      "_________________________________________________________________\n",
      "conv_dw_1 (DepthwiseConv2D)  (None, 112, 112, 32)      288       \n",
      "_________________________________________________________________\n",
      "conv_dw_1_bn (BatchNormaliza (None, 112, 112, 32)      128       \n",
      "_________________________________________________________________\n",
      "conv_dw_1_relu (ReLU)        (None, 112, 112, 32)      0         \n",
      "_________________________________________________________________\n",
      "conv_pw_1 (Conv2D)           (None, 112, 112, 64)      2048      \n",
      "_________________________________________________________________\n",
      "conv_pw_1_bn (BatchNormaliza (None, 112, 112, 64)      256       \n",
      "_________________________________________________________________\n",
      "conv_pw_1_relu (ReLU)        (None, 112, 112, 64)      0         \n",
      "_________________________________________________________________\n",
      "conv_pad_2 (ZeroPadding2D)   (None, 113, 113, 64)      0         \n",
      "_________________________________________________________________\n",
      "conv_dw_2 (DepthwiseConv2D)  (None, 56, 56, 64)        576       \n",
      "_________________________________________________________________\n",
      "conv_dw_2_bn (BatchNormaliza (None, 56, 56, 64)        256       \n",
      "_________________________________________________________________\n",
      "conv_dw_2_relu (ReLU)        (None, 56, 56, 64)        0         \n",
      "_________________________________________________________________\n",
      "conv_pw_2 (Conv2D)           (None, 56, 56, 128)       8192      \n",
      "_________________________________________________________________\n",
      "conv_pw_2_bn (BatchNormaliza (None, 56, 56, 128)       512       \n",
      "_________________________________________________________________\n",
      "conv_pw_2_relu (ReLU)        (None, 56, 56, 128)       0         \n",
      "_________________________________________________________________\n",
      "conv_dw_3 (DepthwiseConv2D)  (None, 56, 56, 128)       1152      \n",
      "_________________________________________________________________\n",
      "conv_dw_3_bn (BatchNormaliza (None, 56, 56, 128)       512       \n",
      "_________________________________________________________________\n",
      "conv_dw_3_relu (ReLU)        (None, 56, 56, 128)       0         \n",
      "_________________________________________________________________\n",
      "conv_pw_3 (Conv2D)           (None, 56, 56, 128)       16384     \n",
      "_________________________________________________________________\n",
      "conv_pw_3_bn (BatchNormaliza (None, 56, 56, 128)       512       \n",
      "_________________________________________________________________\n",
      "conv_pw_3_relu (ReLU)        (None, 56, 56, 128)       0         \n",
      "_________________________________________________________________\n",
      "conv_pad_4 (ZeroPadding2D)   (None, 57, 57, 128)       0         \n",
      "_________________________________________________________________\n",
      "conv_dw_4 (DepthwiseConv2D)  (None, 28, 28, 128)       1152      \n",
      "_________________________________________________________________\n",
      "conv_dw_4_bn (BatchNormaliza (None, 28, 28, 128)       512       \n",
      "_________________________________________________________________\n",
      "conv_dw_4_relu (ReLU)        (None, 28, 28, 128)       0         \n",
      "_________________________________________________________________\n",
      "conv_pw_4 (Conv2D)           (None, 28, 28, 256)       32768     \n",
      "_________________________________________________________________\n",
      "conv_pw_4_bn (BatchNormaliza (None, 28, 28, 256)       1024      \n",
      "_________________________________________________________________\n",
      "conv_pw_4_relu (ReLU)        (None, 28, 28, 256)       0         \n",
      "_________________________________________________________________\n",
      "conv_dw_5 (DepthwiseConv2D)  (None, 28, 28, 256)       2304      \n",
      "_________________________________________________________________\n",
      "conv_dw_5_bn (BatchNormaliza (None, 28, 28, 256)       1024      \n",
      "_________________________________________________________________\n",
      "conv_dw_5_relu (ReLU)        (None, 28, 28, 256)       0         \n",
      "_________________________________________________________________\n",
      "conv_pw_5 (Conv2D)           (None, 28, 28, 256)       65536     \n",
      "_________________________________________________________________\n",
      "conv_pw_5_bn (BatchNormaliza (None, 28, 28, 256)       1024      \n",
      "_________________________________________________________________\n",
      "conv_pw_5_relu (ReLU)        (None, 28, 28, 256)       0         \n",
      "_________________________________________________________________\n",
      "conv_pad_6 (ZeroPadding2D)   (None, 29, 29, 256)       0         \n",
      "_________________________________________________________________\n",
      "conv_dw_6 (DepthwiseConv2D)  (None, 14, 14, 256)       2304      \n",
      "_________________________________________________________________\n",
      "conv_dw_6_bn (BatchNormaliza (None, 14, 14, 256)       1024      \n",
      "_________________________________________________________________\n",
      "conv_dw_6_relu (ReLU)        (None, 14, 14, 256)       0         \n",
      "_________________________________________________________________\n",
      "conv_pw_6 (Conv2D)           (None, 14, 14, 512)       131072    \n",
      "_________________________________________________________________\n",
      "conv_pw_6_bn (BatchNormaliza (None, 14, 14, 512)       2048      \n",
      "_________________________________________________________________\n",
      "conv_pw_6_relu (ReLU)        (None, 14, 14, 512)       0         \n",
      "_________________________________________________________________\n",
      "conv_dw_7 (DepthwiseConv2D)  (None, 14, 14, 512)       4608      \n",
      "_________________________________________________________________\n",
      "conv_dw_7_bn (BatchNormaliza (None, 14, 14, 512)       2048      \n",
      "_________________________________________________________________\n",
      "conv_dw_7_relu (ReLU)        (None, 14, 14, 512)       0         \n",
      "_________________________________________________________________\n",
      "conv_pw_7 (Conv2D)           (None, 14, 14, 512)       262144    \n",
      "_________________________________________________________________\n",
      "conv_pw_7_bn (BatchNormaliza (None, 14, 14, 512)       2048      \n",
      "_________________________________________________________________\n",
      "conv_pw_7_relu (ReLU)        (None, 14, 14, 512)       0         \n",
      "_________________________________________________________________\n",
      "conv_dw_8 (DepthwiseConv2D)  (None, 14, 14, 512)       4608      \n",
      "_________________________________________________________________\n",
      "conv_dw_8_bn (BatchNormaliza (None, 14, 14, 512)       2048      \n",
      "_________________________________________________________________\n",
      "conv_dw_8_relu (ReLU)        (None, 14, 14, 512)       0         \n",
      "_________________________________________________________________\n",
      "conv_pw_8 (Conv2D)           (None, 14, 14, 512)       262144    \n",
      "_________________________________________________________________\n",
      "conv_pw_8_bn (BatchNormaliza (None, 14, 14, 512)       2048      \n",
      "_________________________________________________________________\n",
      "conv_pw_8_relu (ReLU)        (None, 14, 14, 512)       0         \n",
      "_________________________________________________________________\n",
      "conv_dw_9 (DepthwiseConv2D)  (None, 14, 14, 512)       4608      \n",
      "_________________________________________________________________\n",
      "conv_dw_9_bn (BatchNormaliza (None, 14, 14, 512)       2048      \n",
      "_________________________________________________________________\n",
      "conv_dw_9_relu (ReLU)        (None, 14, 14, 512)       0         \n",
      "_________________________________________________________________\n",
      "conv_pw_9 (Conv2D)           (None, 14, 14, 512)       262144    \n",
      "_________________________________________________________________\n",
      "conv_pw_9_bn (BatchNormaliza (None, 14, 14, 512)       2048      \n",
      "_________________________________________________________________\n",
      "conv_pw_9_relu (ReLU)        (None, 14, 14, 512)       0         \n",
      "_________________________________________________________________\n",
      "conv_dw_10 (DepthwiseConv2D) (None, 14, 14, 512)       4608      \n",
      "_________________________________________________________________\n",
      "conv_dw_10_bn (BatchNormaliz (None, 14, 14, 512)       2048      \n",
      "_________________________________________________________________\n",
      "conv_dw_10_relu (ReLU)       (None, 14, 14, 512)       0         \n",
      "_________________________________________________________________\n",
      "conv_pw_10 (Conv2D)          (None, 14, 14, 512)       262144    \n",
      "_________________________________________________________________\n",
      "conv_pw_10_bn (BatchNormaliz (None, 14, 14, 512)       2048      \n",
      "_________________________________________________________________\n",
      "conv_pw_10_relu (ReLU)       (None, 14, 14, 512)       0         \n",
      "_________________________________________________________________\n",
      "conv_dw_11 (DepthwiseConv2D) (None, 14, 14, 512)       4608      \n",
      "_________________________________________________________________\n",
      "conv_dw_11_bn (BatchNormaliz (None, 14, 14, 512)       2048      \n",
      "_________________________________________________________________\n",
      "conv_dw_11_relu (ReLU)       (None, 14, 14, 512)       0         \n",
      "_________________________________________________________________\n",
      "conv_pw_11 (Conv2D)          (None, 14, 14, 512)       262144    \n",
      "_________________________________________________________________\n",
      "conv_pw_11_bn (BatchNormaliz (None, 14, 14, 512)       2048      \n",
      "_________________________________________________________________\n",
      "conv_pw_11_relu (ReLU)       (None, 14, 14, 512)       0         \n",
      "_________________________________________________________________\n",
      "conv_pad_12 (ZeroPadding2D)  (None, 15, 15, 512)       0         \n",
      "_________________________________________________________________\n",
      "conv_dw_12 (DepthwiseConv2D) (None, 7, 7, 512)         4608      \n",
      "_________________________________________________________________\n",
      "conv_dw_12_bn (BatchNormaliz (None, 7, 7, 512)         2048      \n",
      "_________________________________________________________________\n",
      "conv_dw_12_relu (ReLU)       (None, 7, 7, 512)         0         \n",
      "_________________________________________________________________\n",
      "conv_pw_12 (Conv2D)          (None, 7, 7, 1024)        524288    \n",
      "_________________________________________________________________\n",
      "conv_pw_12_bn (BatchNormaliz (None, 7, 7, 1024)        4096      \n",
      "_________________________________________________________________\n",
      "conv_pw_12_relu (ReLU)       (None, 7, 7, 1024)        0         \n",
      "_________________________________________________________________\n",
      "conv_dw_13 (DepthwiseConv2D) (None, 7, 7, 1024)        9216      \n",
      "_________________________________________________________________\n",
      "conv_dw_13_bn (BatchNormaliz (None, 7, 7, 1024)        4096      \n",
      "_________________________________________________________________\n",
      "conv_dw_13_relu (ReLU)       (None, 7, 7, 1024)        0         \n",
      "_________________________________________________________________\n",
      "conv_pw_13 (Conv2D)          (None, 7, 7, 1024)        1048576   \n",
      "_________________________________________________________________\n",
      "conv_pw_13_bn (BatchNormaliz (None, 7, 7, 1024)        4096      \n",
      "_________________________________________________________________\n",
      "conv_pw_13_relu (ReLU)       (None, 7, 7, 1024)        0         \n",
      "_________________________________________________________________\n",
      "global_average_pooling2d (Gl (None, 1024)              0         \n",
      "_________________________________________________________________\n",
      "dropout (Dropout)            (None, 1024)              0         \n",
      "_________________________________________________________________\n",
      "dense (Dense)                (None, 7)                 7175      \n",
      "=================================================================\n",
      "Total params: 3,236,039\n",
      "Trainable params: 3,214,151\n",
      "Non-trainable params: 21,888\n",
      "_________________________________________________________________\n"
     ]
    }
   ],
   "source": [
    "model.summary()"
   ]
  },
  {
   "cell_type": "code",
   "execution_count": 10,
   "metadata": {},
   "outputs": [],
   "source": [
    "# Here we are freezing the weights of all layers except the\n",
    "# last 23 layers in the new model.\n",
    "# The last 23 layers of the model will be trained.\n",
    "\n",
    "for layer in model.layers[:-23]:\n",
    "    layer.trainable = False"
   ]
  },
  {
   "cell_type": "code",
   "execution_count": 11,
   "metadata": {},
   "outputs": [],
   "source": [
    "# Define Top2 and Top3 Accuracy\n",
    "\n",
    "from tensorflow.keras.metrics import categorical_accuracy, top_k_categorical_accuracy\n",
    "\n",
    "def top_3_accuracy(y_true, y_pred):\n",
    "    return top_k_categorical_accuracy(y_true, y_pred, k=3)\n",
    "\n",
    "def top_2_accuracy(y_true, y_pred):\n",
    "    return top_k_categorical_accuracy(y_true, y_pred, k=2)"
   ]
  },
  {
   "cell_type": "code",
   "execution_count": 12,
   "metadata": {},
   "outputs": [],
   "source": [
    "model.compile(Adam(lr=0.01), loss='categorical_crossentropy', \n",
    "              metrics=[categorical_accuracy, top_2_accuracy, top_3_accuracy])"
   ]
  },
  {
   "cell_type": "code",
   "execution_count": 13,
   "metadata": {},
   "outputs": [
    {
     "name": "stdout",
     "output_type": "stream",
     "text": [
      "{'akiec': 0, 'bcc': 1, 'bkl': 2, 'df': 3, 'mel': 4, 'nv': 5, 'vasc': 6}\n"
     ]
    }
   ],
   "source": [
    "# Get the labels that are associated with each index\n",
    "print(valid_batches.class_indices)"
   ]
  },
  {
   "cell_type": "code",
   "execution_count": 14,
   "metadata": {},
   "outputs": [],
   "source": [
    "# Add weights to try to make the model more sensitive to melanoma\n",
    "\n",
    "class_weights={\n",
    "    0: 1.0, # akiec\n",
    "    1: 1.0, # bcc\n",
    "    2: 1.0, # bkl\n",
    "    3: 1.0, # df\n",
    "    4: 3.0, # mel # Try to make the model more sensitive to Melanoma.\n",
    "    5: 1.0, # nv\n",
    "    6: 1.0, # vasc\n",
    "}"
   ]
  },
  {
   "cell_type": "code",
   "execution_count": 15,
   "metadata": {},
   "outputs": [
    {
     "name": "stdout",
     "output_type": "stream",
     "text": [
      "WARNING:tensorflow:From <ipython-input-15-9dab04ad95dd>:16: Model.fit_generator (from tensorflow.python.keras.engine.training) is deprecated and will be removed in a future version.\n",
      "Instructions for updating:\n",
      "Please use Model.fit, which supports generators.\n",
      "Epoch 1/30\n",
      "908/908 [==============================] - ETA: 0s - loss: 1.7147 - categorical_accuracy: 0.5096 - top_2_accuracy: 0.7139 - top_3_accuracy: 0.8422\n",
      "Epoch 00001: val_top_3_accuracy improved from -inf to 0.94670, saving model to model.h5\n",
      "908/908 [==============================] - 349s 384ms/step - loss: 1.7147 - categorical_accuracy: 0.5096 - top_2_accuracy: 0.7139 - top_3_accuracy: 0.8422 - val_loss: 0.9472 - val_categorical_accuracy: 0.8060 - val_top_2_accuracy: 0.8614 - val_top_3_accuracy: 0.9467 - lr: 0.0100\n",
      "Epoch 2/30\n",
      "908/908 [==============================] - ETA: 0s - loss: 1.2383 - categorical_accuracy: 0.6215 - top_2_accuracy: 0.8184 - top_3_accuracy: 0.9158\n",
      "Epoch 00002: val_top_3_accuracy did not improve from 0.94670\n",
      "908/908 [==============================] - 381s 420ms/step - loss: 1.2383 - categorical_accuracy: 0.6215 - top_2_accuracy: 0.8184 - top_3_accuracy: 0.9158 - val_loss: 3.1083 - val_categorical_accuracy: 0.1258 - val_top_2_accuracy: 0.4243 - val_top_3_accuracy: 0.8198 - lr: 0.0100\n",
      "Epoch 3/30\n",
      "908/908 [==============================] - ETA: 0s - loss: 1.1041 - categorical_accuracy: 0.6673 - top_2_accuracy: 0.8481 - top_3_accuracy: 0.9367\n",
      "Epoch 00003: val_top_3_accuracy improved from 0.94670 to 0.95203, saving model to model.h5\n",
      "908/908 [==============================] - 470s 517ms/step - loss: 1.1041 - categorical_accuracy: 0.6673 - top_2_accuracy: 0.8481 - top_3_accuracy: 0.9367 - val_loss: 0.8419 - val_categorical_accuracy: 0.8134 - val_top_2_accuracy: 0.9009 - val_top_3_accuracy: 0.9520 - lr: 0.0100\n",
      "Epoch 4/30\n",
      "908/908 [==============================] - ETA: 0s - loss: 0.9891 - categorical_accuracy: 0.7066 - top_2_accuracy: 0.8753 - top_3_accuracy: 0.9499\n",
      "Epoch 00004: val_top_3_accuracy improved from 0.95203 to 0.97548, saving model to model.h5\n",
      "908/908 [==============================] - 502s 553ms/step - loss: 0.9891 - categorical_accuracy: 0.7066 - top_2_accuracy: 0.8753 - top_3_accuracy: 0.9499 - val_loss: 0.5427 - val_categorical_accuracy: 0.7964 - val_top_2_accuracy: 0.9222 - val_top_3_accuracy: 0.9755 - lr: 0.0100\n",
      "Epoch 5/30\n",
      "908/908 [==============================] - ETA: 0s - loss: 0.9352 - categorical_accuracy: 0.7110 - top_2_accuracy: 0.8826 - top_3_accuracy: 0.9616\n",
      "Epoch 00005: val_top_3_accuracy did not improve from 0.97548\n",
      "908/908 [==============================] - 557s 614ms/step - loss: 0.9352 - categorical_accuracy: 0.7110 - top_2_accuracy: 0.8826 - top_3_accuracy: 0.9616 - val_loss: 2.5686 - val_categorical_accuracy: 0.1748 - val_top_2_accuracy: 0.7217 - val_top_3_accuracy: 0.9510 - lr: 0.0100\n",
      "Epoch 6/30\n",
      "908/908 [==============================] - ETA: 0s - loss: 0.8558 - categorical_accuracy: 0.7426 - top_2_accuracy: 0.9003 - top_3_accuracy: 0.9661\n",
      "Epoch 00006: val_top_3_accuracy did not improve from 0.97548\n",
      "\n",
      "Epoch 00006: ReduceLROnPlateau reducing learning rate to 0.004999999888241291.\n",
      "908/908 [==============================] - 617s 679ms/step - loss: 0.8558 - categorical_accuracy: 0.7426 - top_2_accuracy: 0.9003 - top_3_accuracy: 0.9661 - val_loss: 0.5216 - val_categorical_accuracy: 0.8316 - val_top_2_accuracy: 0.9222 - val_top_3_accuracy: 0.9638 - lr: 0.0100\n",
      "Epoch 7/30\n",
      "908/908 [==============================] - ETA: 0s - loss: 0.7015 - categorical_accuracy: 0.7880 - top_2_accuracy: 0.9287 - top_3_accuracy: 0.9779\n",
      "Epoch 00007: val_top_3_accuracy improved from 0.97548 to 0.97761, saving model to model.h5\n",
      "908/908 [==============================] - 558s 614ms/step - loss: 0.7015 - categorical_accuracy: 0.7880 - top_2_accuracy: 0.9287 - top_3_accuracy: 0.9779 - val_loss: 0.3487 - val_categorical_accuracy: 0.8849 - val_top_2_accuracy: 0.9520 - val_top_3_accuracy: 0.9776 - lr: 0.0050\n",
      "Epoch 8/30\n",
      "908/908 [==============================] - ETA: 0s - loss: 0.6472 - categorical_accuracy: 0.8030 - top_2_accuracy: 0.9406 - top_3_accuracy: 0.9841\n",
      "Epoch 00008: val_top_3_accuracy did not improve from 0.97761\n",
      "908/908 [==============================] - 581s 640ms/step - loss: 0.6472 - categorical_accuracy: 0.8030 - top_2_accuracy: 0.9406 - top_3_accuracy: 0.9841 - val_loss: 0.3682 - val_categorical_accuracy: 0.8678 - val_top_2_accuracy: 0.9510 - val_top_3_accuracy: 0.9765 - lr: 0.0050\n",
      "Epoch 9/30\n",
      "908/908 [==============================] - ETA: 0s - loss: 0.5621 - categorical_accuracy: 0.8228 - top_2_accuracy: 0.9485 - top_3_accuracy: 0.9895\n",
      "Epoch 00009: val_top_3_accuracy improved from 0.97761 to 0.97974, saving model to model.h5\n",
      "908/908 [==============================] - 496s 547ms/step - loss: 0.5621 - categorical_accuracy: 0.8228 - top_2_accuracy: 0.9485 - top_3_accuracy: 0.9895 - val_loss: 0.4354 - val_categorical_accuracy: 0.8529 - val_top_2_accuracy: 0.9616 - val_top_3_accuracy: 0.9797 - lr: 0.0050\n",
      "Epoch 10/30\n",
      "908/908 [==============================] - ETA: 0s - loss: 0.5670 - categorical_accuracy: 0.8308 - top_2_accuracy: 0.9499 - top_3_accuracy: 0.9885\n",
      "Epoch 00010: val_top_3_accuracy did not improve from 0.97974\n",
      "908/908 [==============================] - 462s 509ms/step - loss: 0.5670 - categorical_accuracy: 0.8308 - top_2_accuracy: 0.9499 - top_3_accuracy: 0.9885 - val_loss: 0.4831 - val_categorical_accuracy: 0.8443 - val_top_2_accuracy: 0.9350 - val_top_3_accuracy: 0.9723 - lr: 0.0050\n",
      "Epoch 11/30\n",
      "908/908 [==============================] - ETA: 0s - loss: 0.5296 - categorical_accuracy: 0.8415 - top_2_accuracy: 0.9548 - top_3_accuracy: 0.9890\n",
      "Epoch 00011: val_top_3_accuracy did not improve from 0.97974\n",
      "\n",
      "Epoch 00011: ReduceLROnPlateau reducing learning rate to 0.0024999999441206455.\n",
      "908/908 [==============================] - 413s 455ms/step - loss: 0.5296 - categorical_accuracy: 0.8415 - top_2_accuracy: 0.9548 - top_3_accuracy: 0.9890 - val_loss: 0.4293 - val_categorical_accuracy: 0.8635 - val_top_2_accuracy: 0.9424 - val_top_3_accuracy: 0.9765 - lr: 0.0050\n",
      "Epoch 12/30\n",
      "908/908 [==============================] - ETA: 0s - loss: 0.4526 - categorical_accuracy: 0.8620 - top_2_accuracy: 0.9688 - top_3_accuracy: 0.9937\n",
      "Epoch 00012: val_top_3_accuracy improved from 0.97974 to 0.98721, saving model to model.h5\n",
      "908/908 [==============================] - 402s 442ms/step - loss: 0.4526 - categorical_accuracy: 0.8620 - top_2_accuracy: 0.9688 - top_3_accuracy: 0.9937 - val_loss: 0.3350 - val_categorical_accuracy: 0.8955 - val_top_2_accuracy: 0.9638 - val_top_3_accuracy: 0.9872 - lr: 0.0025\n",
      "Epoch 13/30\n",
      "908/908 [==============================] - ETA: 0s - loss: 0.4092 - categorical_accuracy: 0.8769 - top_2_accuracy: 0.9725 - top_3_accuracy: 0.9957\n",
      "Epoch 00013: val_top_3_accuracy did not improve from 0.98721\n",
      "908/908 [==============================] - 402s 443ms/step - loss: 0.4092 - categorical_accuracy: 0.8769 - top_2_accuracy: 0.9725 - top_3_accuracy: 0.9957 - val_loss: 0.3368 - val_categorical_accuracy: 0.8977 - val_top_2_accuracy: 0.9670 - val_top_3_accuracy: 0.9872 - lr: 0.0025\n",
      "Epoch 14/30\n",
      "908/908 [==============================] - ETA: 0s - loss: 0.3765 - categorical_accuracy: 0.8882 - top_2_accuracy: 0.9765 - top_3_accuracy: 0.9963\n",
      "Epoch 00014: val_top_3_accuracy did not improve from 0.98721\n",
      "\n",
      "Epoch 00014: ReduceLROnPlateau reducing learning rate to 0.0012499999720603228.\n",
      "908/908 [==============================] - 396s 436ms/step - loss: 0.3765 - categorical_accuracy: 0.8882 - top_2_accuracy: 0.9765 - top_3_accuracy: 0.9963 - val_loss: 0.3912 - val_categorical_accuracy: 0.8838 - val_top_2_accuracy: 0.9627 - val_top_3_accuracy: 0.9829 - lr: 0.0025\n",
      "Epoch 15/30\n",
      "908/908 [==============================] - ETA: 0s - loss: 0.3145 - categorical_accuracy: 0.9030 - top_2_accuracy: 0.9819 - top_3_accuracy: 0.9979\n",
      "Epoch 00015: val_top_3_accuracy did not improve from 0.98721\n",
      "908/908 [==============================] - 398s 439ms/step - loss: 0.3145 - categorical_accuracy: 0.9030 - top_2_accuracy: 0.9819 - top_3_accuracy: 0.9979 - val_loss: 0.3799 - val_categorical_accuracy: 0.8774 - val_top_2_accuracy: 0.9691 - val_top_3_accuracy: 0.9861 - lr: 0.0012\n",
      "Epoch 16/30\n",
      "908/908 [==============================] - ETA: 0s - loss: 0.2862 - categorical_accuracy: 0.9144 - top_2_accuracy: 0.9847 - top_3_accuracy: 0.9977\n",
      "Epoch 00016: val_top_3_accuracy did not improve from 0.98721\n",
      "\n",
      "Epoch 00016: ReduceLROnPlateau reducing learning rate to 0.0006249999860301614.\n",
      "908/908 [==============================] - 400s 441ms/step - loss: 0.2862 - categorical_accuracy: 0.9144 - top_2_accuracy: 0.9847 - top_3_accuracy: 0.9977 - val_loss: 0.3545 - val_categorical_accuracy: 0.8806 - val_top_2_accuracy: 0.9680 - val_top_3_accuracy: 0.9840 - lr: 0.0012\n",
      "Epoch 17/30\n",
      "908/908 [==============================] - ETA: 0s - loss: 0.2594 - categorical_accuracy: 0.9207 - top_2_accuracy: 0.9852 - top_3_accuracy: 0.9971\n",
      "Epoch 00017: val_top_3_accuracy improved from 0.98721 to 0.98934, saving model to model.h5\n",
      "908/908 [==============================] - 395s 435ms/step - loss: 0.2594 - categorical_accuracy: 0.9207 - top_2_accuracy: 0.9852 - top_3_accuracy: 0.9971 - val_loss: 0.3325 - val_categorical_accuracy: 0.8891 - val_top_2_accuracy: 0.9627 - val_top_3_accuracy: 0.9893 - lr: 6.2500e-04\n",
      "Epoch 18/30\n",
      "908/908 [==============================] - ETA: 0s - loss: 0.2370 - categorical_accuracy: 0.9272 - top_2_accuracy: 0.9881 - top_3_accuracy: 0.9980\n",
      "Epoch 00018: val_top_3_accuracy did not improve from 0.98934\n",
      "908/908 [==============================] - 393s 433ms/step - loss: 0.2370 - categorical_accuracy: 0.9272 - top_2_accuracy: 0.9881 - top_3_accuracy: 0.9980 - val_loss: 0.3593 - val_categorical_accuracy: 0.8870 - val_top_2_accuracy: 0.9659 - val_top_3_accuracy: 0.9883 - lr: 6.2500e-04\n",
      "Epoch 19/30\n",
      "908/908 [==============================] - ETA: 0s - loss: 0.2246 - categorical_accuracy: 0.9315 - top_2_accuracy: 0.9905 - top_3_accuracy: 0.9989\n",
      "Epoch 00019: val_top_3_accuracy did not improve from 0.98934\n",
      "\n",
      "Epoch 00019: ReduceLROnPlateau reducing learning rate to 0.0003124999930150807.\n",
      "908/908 [==============================] - 398s 438ms/step - loss: 0.2246 - categorical_accuracy: 0.9315 - top_2_accuracy: 0.9905 - top_3_accuracy: 0.9989 - val_loss: 0.3710 - val_categorical_accuracy: 0.8913 - val_top_2_accuracy: 0.9606 - val_top_3_accuracy: 0.9851 - lr: 6.2500e-04\n",
      "Epoch 20/30\n",
      "908/908 [==============================] - ETA: 0s - loss: 0.2102 - categorical_accuracy: 0.9357 - top_2_accuracy: 0.9901 - top_3_accuracy: 0.9990\n",
      "Epoch 00020: val_top_3_accuracy did not improve from 0.98934\n",
      "908/908 [==============================] - 385s 424ms/step - loss: 0.2102 - categorical_accuracy: 0.9357 - top_2_accuracy: 0.9901 - top_3_accuracy: 0.9990 - val_loss: 0.3475 - val_categorical_accuracy: 0.8987 - val_top_2_accuracy: 0.9638 - val_top_3_accuracy: 0.9872 - lr: 3.1250e-04\n",
      "Epoch 21/30\n",
      "908/908 [==============================] - ETA: 0s - loss: 0.1987 - categorical_accuracy: 0.9406 - top_2_accuracy: 0.9917 - top_3_accuracy: 0.9990\n",
      "Epoch 00021: val_top_3_accuracy did not improve from 0.98934\n",
      "\n",
      "Epoch 00021: ReduceLROnPlateau reducing learning rate to 0.00015624999650754035.\n",
      "908/908 [==============================] - 373s 410ms/step - loss: 0.1987 - categorical_accuracy: 0.9406 - top_2_accuracy: 0.9917 - top_3_accuracy: 0.9990 - val_loss: 0.3509 - val_categorical_accuracy: 0.8945 - val_top_2_accuracy: 0.9638 - val_top_3_accuracy: 0.9872 - lr: 3.1250e-04\n",
      "Epoch 22/30\n",
      "908/908 [==============================] - ETA: 0s - loss: 0.1929 - categorical_accuracy: 0.9438 - top_2_accuracy: 0.9892 - top_3_accuracy: 0.9989\n",
      "Epoch 00022: val_top_3_accuracy did not improve from 0.98934\n",
      "908/908 [==============================] - 371s 409ms/step - loss: 0.1929 - categorical_accuracy: 0.9438 - top_2_accuracy: 0.9892 - top_3_accuracy: 0.9989 - val_loss: 0.3495 - val_categorical_accuracy: 0.8923 - val_top_2_accuracy: 0.9627 - val_top_3_accuracy: 0.9872 - lr: 1.5625e-04\n",
      "Epoch 23/30\n",
      "908/908 [==============================] - ETA: 0s - loss: 0.2016 - categorical_accuracy: 0.9392 - top_2_accuracy: 0.9890 - top_3_accuracy: 0.9982\n",
      "Epoch 00023: val_top_3_accuracy did not improve from 0.98934\n",
      "\n",
      "Epoch 00023: ReduceLROnPlateau reducing learning rate to 7.812499825377017e-05.\n",
      "908/908 [==============================] - 367s 405ms/step - loss: 0.2016 - categorical_accuracy: 0.9392 - top_2_accuracy: 0.9890 - top_3_accuracy: 0.9982 - val_loss: 0.3520 - val_categorical_accuracy: 0.8881 - val_top_2_accuracy: 0.9648 - val_top_3_accuracy: 0.9851 - lr: 1.5625e-04\n",
      "Epoch 24/30\n",
      "908/908 [==============================] - ETA: 0s - loss: 0.1906 - categorical_accuracy: 0.9425 - top_2_accuracy: 0.9920 - top_3_accuracy: 0.9987\n",
      "Epoch 00024: val_top_3_accuracy did not improve from 0.98934\n",
      "908/908 [==============================] - 366s 403ms/step - loss: 0.1906 - categorical_accuracy: 0.9425 - top_2_accuracy: 0.9920 - top_3_accuracy: 0.9987 - val_loss: 0.3563 - val_categorical_accuracy: 0.8881 - val_top_2_accuracy: 0.9648 - val_top_3_accuracy: 0.9851 - lr: 7.8125e-05\n",
      "Epoch 25/30\n",
      "908/908 [==============================] - ETA: 0s - loss: 0.1856 - categorical_accuracy: 0.9427 - top_2_accuracy: 0.9904 - top_3_accuracy: 0.9990\n",
      "Epoch 00025: val_top_3_accuracy did not improve from 0.98934\n",
      "\n",
      "Epoch 00025: ReduceLROnPlateau reducing learning rate to 3.9062499126885086e-05.\n",
      "908/908 [==============================] - 366s 403ms/step - loss: 0.1856 - categorical_accuracy: 0.9427 - top_2_accuracy: 0.9904 - top_3_accuracy: 0.9990 - val_loss: 0.3581 - val_categorical_accuracy: 0.8870 - val_top_2_accuracy: 0.9659 - val_top_3_accuracy: 0.9840 - lr: 7.8125e-05\n",
      "Epoch 26/30\n",
      "908/908 [==============================] - ETA: 0s - loss: 0.1920 - categorical_accuracy: 0.9406 - top_2_accuracy: 0.9917 - top_3_accuracy: 0.9993\n",
      "Epoch 00026: val_top_3_accuracy did not improve from 0.98934\n",
      "908/908 [==============================] - 368s 406ms/step - loss: 0.1920 - categorical_accuracy: 0.9406 - top_2_accuracy: 0.9917 - top_3_accuracy: 0.9993 - val_loss: 0.3558 - val_categorical_accuracy: 0.8891 - val_top_2_accuracy: 0.9638 - val_top_3_accuracy: 0.9851 - lr: 3.9062e-05\n",
      "Epoch 27/30\n",
      "908/908 [==============================] - ETA: 0s - loss: 0.1933 - categorical_accuracy: 0.9421 - top_2_accuracy: 0.9912 - top_3_accuracy: 0.9992\n",
      "Epoch 00027: val_top_3_accuracy did not improve from 0.98934\n",
      "\n",
      "Epoch 00027: ReduceLROnPlateau reducing learning rate to 1.9531249563442543e-05.\n",
      "908/908 [==============================] - 366s 403ms/step - loss: 0.1933 - categorical_accuracy: 0.9421 - top_2_accuracy: 0.9912 - top_3_accuracy: 0.9992 - val_loss: 0.3549 - val_categorical_accuracy: 0.8902 - val_top_2_accuracy: 0.9638 - val_top_3_accuracy: 0.9872 - lr: 3.9062e-05\n",
      "Epoch 28/30\n",
      "908/908 [==============================] - ETA: 0s - loss: 0.1916 - categorical_accuracy: 0.9434 - top_2_accuracy: 0.9916 - top_3_accuracy: 0.9990\n",
      "Epoch 00028: val_top_3_accuracy did not improve from 0.98934\n",
      "908/908 [==============================] - 365s 402ms/step - loss: 0.1916 - categorical_accuracy: 0.9434 - top_2_accuracy: 0.9916 - top_3_accuracy: 0.9990 - val_loss: 0.3525 - val_categorical_accuracy: 0.8881 - val_top_2_accuracy: 0.9638 - val_top_3_accuracy: 0.9872 - lr: 1.9531e-05\n",
      "Epoch 29/30\n",
      "908/908 [==============================] - ETA: 0s - loss: 0.1836 - categorical_accuracy: 0.9449 - top_2_accuracy: 0.9912 - top_3_accuracy: 0.9989\n",
      "Epoch 00029: val_top_3_accuracy did not improve from 0.98934\n",
      "\n",
      "Epoch 00029: ReduceLROnPlateau reducing learning rate to 1e-05.\n",
      "908/908 [==============================] - 365s 402ms/step - loss: 0.1836 - categorical_accuracy: 0.9449 - top_2_accuracy: 0.9912 - top_3_accuracy: 0.9989 - val_loss: 0.3537 - val_categorical_accuracy: 0.8881 - val_top_2_accuracy: 0.9638 - val_top_3_accuracy: 0.9840 - lr: 1.9531e-05\n",
      "Epoch 30/30\n",
      "908/908 [==============================] - ETA: 0s - loss: 0.1902 - categorical_accuracy: 0.9448 - top_2_accuracy: 0.9917 - top_3_accuracy: 0.9989\n",
      "Epoch 00030: val_top_3_accuracy did not improve from 0.98934\n",
      "908/908 [==============================] - 363s 400ms/step - loss: 0.1902 - categorical_accuracy: 0.9448 - top_2_accuracy: 0.9917 - top_3_accuracy: 0.9989 - val_loss: 0.3516 - val_categorical_accuracy: 0.8923 - val_top_2_accuracy: 0.9638 - val_top_3_accuracy: 0.9861 - lr: 1.0000e-05\n"
     ]
    }
   ],
   "source": [
    "filepath = \"model.h5\"\n",
    "checkpoint = ModelCheckpoint(filepath, monitor='val_top_3_accuracy', verbose=1, \n",
    "                             save_best_only=True, mode='max')\n",
    "\n",
    "reduce_lr = ReduceLROnPlateau(monitor='val_top_3_accuracy', factor=0.5, patience=2, \n",
    "                                   verbose=1, mode='max', min_lr=0.00001)\n",
    "                              \n",
    "                              \n",
    "callbacks_list = [checkpoint, reduce_lr]\n",
    "\n",
    "history = model.fit_generator(train_batches, steps_per_epoch=train_steps, \n",
    "                              class_weight=class_weights,\n",
    "                    validation_data=valid_batches,\n",
    "                    validation_steps=val_steps,\n",
    "                    epochs=30, verbose=1,\n",
    "                   callbacks=callbacks_list)"
   ]
  },
  {
   "cell_type": "code",
   "execution_count": 16,
   "metadata": {},
   "outputs": [
    {
     "data": {
      "text/plain": [
       "['loss', 'categorical_accuracy', 'top_2_accuracy', 'top_3_accuracy']"
      ]
     },
     "execution_count": 16,
     "metadata": {},
     "output_type": "execute_result"
    }
   ],
   "source": [
    "# get the metric names so we can use evaulate_generator\n",
    "model.metrics_names"
   ]
  },
  {
   "cell_type": "code",
   "execution_count": 18,
   "metadata": {},
   "outputs": [
    {
     "name": "stdout",
     "output_type": "stream",
     "text": [
      "WARNING:tensorflow:From <ipython-input-18-86d66decf2a1>:5: Model.evaluate_generator (from tensorflow.python.keras.engine.training) is deprecated and will be removed in a future version.\n",
      "Instructions for updating:\n",
      "Please use Model.evaluate, which supports generators.\n",
      "val_loss: 0.351550817489624\n",
      "val_cat_acc: 0.8923240900039673\n",
      "val_top_2_acc: 0.9637526869773865\n",
      "val_top_3_acc: 0.9861407279968262\n"
     ]
    }
   ],
   "source": [
    "# Here the the last epoch will be used.\n",
    "\n",
    "val_loss, val_cat_acc, val_top_2_acc, val_top_3_acc = \\\n",
    "model.evaluate_generator(test_batches, \n",
    "                        steps=938)\n",
    "\n",
    "print('val_loss:', val_loss)\n",
    "print('val_cat_acc:', val_cat_acc)\n",
    "print('val_top_2_acc:', val_top_2_acc)\n",
    "print('val_top_3_acc:', val_top_3_acc)"
   ]
  },
  {
   "cell_type": "code",
   "execution_count": 20,
   "metadata": {},
   "outputs": [
    {
     "name": "stdout",
     "output_type": "stream",
     "text": [
      "val_loss: 0.332475870847702\n",
      "val_cat_acc: 0.8891258239746094\n",
      "val_top_2_acc: 0.9626865386962891\n",
      "val_top_3_acc: 0.9893389940261841\n"
     ]
    }
   ],
   "source": [
    "#Here the best epoch will be used.\n",
    "\n",
    "model.load_weights('model.h5')\n",
    "\n",
    "val_loss, val_cat_acc, val_top_2_acc, val_top_3_acc = \\\n",
    "model.evaluate_generator(test_batches, \n",
    "                        steps=938)\n",
    "\n",
    "print('val_loss:', val_loss)\n",
    "print('val_cat_acc:', val_cat_acc)\n",
    "print('val_top_2_acc:', val_top_2_acc)\n",
    "print('val_top_3_acc:', val_top_3_acc)"
   ]
  },
  {
   "cell_type": "code",
   "execution_count": 21,
   "metadata": {},
   "outputs": [
    {
     "data": {
      "image/png": "[encoded data removed]",
      "text/plain": [
       "<Figure size 432x288 with 1 Axes>"
      ]
     },
     "metadata": {
      "needs_background": "light"
     },
     "output_type": "display_data"
    },
    {
     "data": {
      "image/png": "[encoded data removed]",
      "text/plain": [
       "<Figure size 432x288 with 1 Axes>"
      ]
     },
     "metadata": {
      "needs_background": "light"
     },
     "output_type": "display_data"
    },
    {
     "data": {
      "image/png": "[encoded data removed]",
      "text/plain": [
       "<Figure size 432x288 with 1 Axes>"
      ]
     },
     "metadata": {
      "needs_background": "light"
     },
     "output_type": "display_data"
    },
    {
     "data": {
      "image/png": "[encoded data removed]",
      "text/plain": [
       "<Figure size 432x288 with 1 Axes>"
      ]
     },
     "metadata": {
      "needs_background": "light"
     },
     "output_type": "display_data"
    }
   ],
   "source": [
    "# display the loss and accuracy curves\n",
    "\n",
    "import matplotlib.pyplot as plt\n",
    "\n",
    "acc = history.history['categorical_accuracy']\n",
    "val_acc = history.history['val_categorical_accuracy']\n",
    "loss = history.history['loss']\n",
    "val_loss = history.history['val_loss']\n",
    "train_top2_acc = history.history['top_2_accuracy']\n",
    "val_top2_acc = history.history['val_top_2_accuracy']\n",
    "train_top3_acc = history.history['top_3_accuracy']\n",
    "val_top3_acc = history.history['val_top_3_accuracy']\n",
    "epochs = range(1, len(acc) + 1)\n",
    "\n",
    "plt.plot(epochs, loss, 'bo', label='Training loss')\n",
    "plt.plot(epochs, val_loss, 'b', label='Validation loss')\n",
    "plt.title('Training and validation loss')\n",
    "plt.legend()\n",
    "plt.figure()\n",
    "\n",
    "plt.plot(epochs, acc, 'bo', label='Training cat acc')\n",
    "plt.plot(epochs, val_acc, 'b', label='Validation cat acc')\n",
    "plt.title('Training and validation cat accuracy')\n",
    "plt.legend()\n",
    "plt.figure()\n",
    "\n",
    "\n",
    "plt.plot(epochs, train_top2_acc, 'bo', label='Training top2 acc')\n",
    "plt.plot(epochs, val_top2_acc, 'b', label='Validation top2 acc')\n",
    "plt.title('Training and validation top2 accuracy')\n",
    "plt.legend()\n",
    "plt.figure()\n",
    "plt.plot(epochs, train_top3_acc, 'bo', label='Training top3 acc')\n",
    "plt.plot(epochs, val_top3_acc, 'b', label='Validation top3 acc')\n",
    "plt.title('Training and validation top3 accuracy')\n",
    "plt.legend()\n",
    "\n",
    "\n",
    "plt.show()"
   ]
  },
  {
   "cell_type": "code",
   "execution_count": 22,
   "metadata": {},
   "outputs": [],
   "source": [
    "# Get the labels of the test images.\n",
    "\n",
    "test_labels = test_batches.classes"
   ]
  },
  {
   "cell_type": "code",
   "execution_count": 23,
   "metadata": {},
   "outputs": [
    {
     "data": {
      "text/plain": [
       "array([0, 0, 0, 0, 0, 0, 0, 0, 0, 0, 0, 0, 0, 0, 0, 0, 0, 0, 0, 0, 0, 0,\n",
       "       0, 0, 0, 0, 1, 1, 1, 1, 1, 1, 1, 1, 1, 1, 1, 1, 1, 1, 1, 1, 1, 1,\n",
       "       1, 1, 1, 1, 1, 1, 1, 1, 1, 1, 1, 1, 2, 2, 2, 2, 2, 2, 2, 2, 2, 2,\n",
       "       2, 2, 2, 2, 2, 2, 2, 2, 2, 2, 2, 2, 2, 2, 2, 2, 2, 2, 2, 2, 2, 2,\n",
       "       2, 2, 2, 2, 2, 2, 2, 2, 2, 2, 2, 2, 2, 2, 2, 2, 2, 2, 2, 2, 2, 2,\n",
       "       2, 2, 2, 2, 2, 2, 2, 2, 2, 2, 2, 2, 2, 2, 2, 2, 2, 2, 2, 2, 2, 3,\n",
       "       3, 3, 3, 3, 3, 4, 4, 4, 4, 4, 4, 4, 4, 4, 4, 4, 4, 4, 4, 4, 4, 4,\n",
       "       4, 4, 4, 4, 4, 4, 4, 4, 4, 4, 4, 4, 4, 4, 4, 4, 4, 4, 4, 4, 4, 4,\n",
       "       5, 5, 5, 5, 5, 5, 5, 5, 5, 5, 5, 5, 5, 5, 5, 5, 5, 5, 5, 5, 5, 5,\n",
       "       5, 5, 5, 5, 5, 5, 5, 5, 5, 5, 5, 5, 5, 5, 5, 5, 5, 5, 5, 5, 5, 5,\n",
       "       5, 5, 5, 5, 5, 5, 5, 5, 5, 5, 5, 5, 5, 5, 5, 5, 5, 5, 5, 5, 5, 5,\n",
       "       5, 5, 5, 5, 5, 5, 5, 5, 5, 5, 5, 5, 5, 5, 5, 5, 5, 5, 5, 5, 5, 5,\n",
       "       5, 5, 5, 5, 5, 5, 5, 5, 5, 5, 5, 5, 5, 5, 5, 5, 5, 5, 5, 5, 5, 5,\n",
       "       5, 5, 5, 5, 5, 5, 5, 5, 5, 5, 5, 5, 5, 5, 5, 5, 5, 5, 5, 5, 5, 5,\n",
       "       5, 5, 5, 5, 5, 5, 5, 5, 5, 5, 5, 5, 5, 5, 5, 5, 5, 5, 5, 5, 5, 5,\n",
       "       5, 5, 5, 5, 5, 5, 5, 5, 5, 5, 5, 5, 5, 5, 5, 5, 5, 5, 5, 5, 5, 5,\n",
       "       5, 5, 5, 5, 5, 5, 5, 5, 5, 5, 5, 5, 5, 5, 5, 5, 5, 5, 5, 5, 5, 5,\n",
       "       5, 5, 5, 5, 5, 5, 5, 5, 5, 5, 5, 5, 5, 5, 5, 5, 5, 5, 5, 5, 5, 5,\n",
       "       5, 5, 5, 5, 5, 5, 5, 5, 5, 5, 5, 5, 5, 5, 5, 5, 5, 5, 5, 5, 5, 5,\n",
       "       5, 5, 5, 5, 5, 5, 5, 5, 5, 5, 5, 5, 5, 5, 5, 5, 5, 5, 5, 5, 5, 5,\n",
       "       5, 5, 5, 5, 5, 5, 5, 5, 5, 5, 5, 5, 5, 5, 5, 5, 5, 5, 5, 5, 5, 5,\n",
       "       5, 5, 5, 5, 5, 5, 5, 5, 5, 5, 5, 5, 5, 5, 5, 5, 5, 5, 5, 5, 5, 5,\n",
       "       5, 5, 5, 5, 5, 5, 5, 5, 5, 5, 5, 5, 5, 5, 5, 5, 5, 5, 5, 5, 5, 5,\n",
       "       5, 5, 5, 5, 5, 5, 5, 5, 5, 5, 5, 5, 5, 5, 5, 5, 5, 5, 5, 5, 5, 5,\n",
       "       5, 5, 5, 5, 5, 5, 5, 5, 5, 5, 5, 5, 5, 5, 5, 5, 5, 5, 5, 5, 5, 5,\n",
       "       5, 5, 5, 5, 5, 5, 5, 5, 5, 5, 5, 5, 5, 5, 5, 5, 5, 5, 5, 5, 5, 5,\n",
       "       5, 5, 5, 5, 5, 5, 5, 5, 5, 5, 5, 5, 5, 5, 5, 5, 5, 5, 5, 5, 5, 5,\n",
       "       5, 5, 5, 5, 5, 5, 5, 5, 5, 5, 5, 5, 5, 5, 5, 5, 5, 5, 5, 5, 5, 5,\n",
       "       5, 5, 5, 5, 5, 5, 5, 5, 5, 5, 5, 5, 5, 5, 5, 5, 5, 5, 5, 5, 5, 5,\n",
       "       5, 5, 5, 5, 5, 5, 5, 5, 5, 5, 5, 5, 5, 5, 5, 5, 5, 5, 5, 5, 5, 5,\n",
       "       5, 5, 5, 5, 5, 5, 5, 5, 5, 5, 5, 5, 5, 5, 5, 5, 5, 5, 5, 5, 5, 5,\n",
       "       5, 5, 5, 5, 5, 5, 5, 5, 5, 5, 5, 5, 5, 5, 5, 5, 5, 5, 5, 5, 5, 5,\n",
       "       5, 5, 5, 5, 5, 5, 5, 5, 5, 5, 5, 5, 5, 5, 5, 5, 5, 5, 5, 5, 5, 5,\n",
       "       5, 5, 5, 5, 5, 5, 5, 5, 5, 5, 5, 5, 5, 5, 5, 5, 5, 5, 5, 5, 5, 5,\n",
       "       5, 5, 5, 5, 5, 5, 5, 5, 5, 5, 5, 5, 5, 5, 5, 5, 5, 5, 5, 5, 5, 5,\n",
       "       5, 5, 5, 5, 5, 5, 5, 5, 5, 5, 5, 5, 5, 5, 5, 5, 5, 5, 5, 5, 5, 5,\n",
       "       5, 5, 5, 5, 5, 5, 5, 5, 5, 5, 5, 5, 5, 5, 5, 5, 5, 5, 5, 5, 5, 5,\n",
       "       5, 5, 5, 5, 5, 5, 5, 5, 5, 5, 5, 5, 5, 5, 5, 5, 5, 5, 5, 5, 5, 5,\n",
       "       5, 5, 5, 5, 5, 5, 5, 5, 5, 5, 5, 5, 5, 5, 5, 5, 5, 5, 5, 5, 5, 5,\n",
       "       5, 5, 5, 5, 5, 5, 5, 5, 5, 5, 5, 5, 5, 5, 5, 5, 5, 5, 5, 5, 5, 5,\n",
       "       5, 5, 5, 5, 5, 5, 5, 5, 5, 5, 5, 5, 5, 5, 5, 5, 5, 5, 5, 5, 5, 5,\n",
       "       5, 5, 5, 5, 5, 5, 5, 5, 5, 5, 5, 5, 5, 5, 5, 5, 5, 5, 5, 5, 5, 5,\n",
       "       5, 5, 5, 6, 6, 6, 6, 6, 6, 6, 6, 6, 6, 6], dtype=int32)"
      ]
     },
     "execution_count": 23,
     "metadata": {},
     "output_type": "execute_result"
    }
   ],
   "source": [
    "# We need these to plot the confusion matrix.\n",
    "test_labels"
   ]
  },
  {
   "cell_type": "code",
   "execution_count": 24,
   "metadata": {},
   "outputs": [
    {
     "data": {
      "text/plain": [
       "{'akiec': 0, 'bcc': 1, 'bkl': 2, 'df': 3, 'mel': 4, 'nv': 5, 'vasc': 6}"
      ]
     },
     "execution_count": 24,
     "metadata": {},
     "output_type": "execute_result"
    }
   ],
   "source": [
    "# Print the label associated with each class\n",
    "test_batches.class_indices"
   ]
  },
  {
   "cell_type": "code",
   "execution_count": 26,
   "metadata": {},
   "outputs": [
    {
     "name": "stdout",
     "output_type": "stream",
     "text": [
      "WARNING:tensorflow:From <ipython-input-26-4ff03168de2e>:2: Model.predict_generator (from tensorflow.python.keras.engine.training) is deprecated and will be removed in a future version.\n",
      "Instructions for updating:\n",
      "Please use Model.predict, which supports generators.\n",
      "938/938 [==============================] - 28s 30ms/step\n"
     ]
    }
   ],
   "source": [
    "# make a prediction\n",
    "predictions = model.predict_generator(test_batches, steps=938, verbose=1)"
   ]
  },
  {
   "cell_type": "code",
   "execution_count": 27,
   "metadata": {},
   "outputs": [
    {
     "data": {
      "text/plain": [
       "(938, 7)"
      ]
     },
     "execution_count": 27,
     "metadata": {},
     "output_type": "execute_result"
    }
   ],
   "source": [
    "predictions.shape"
   ]
  },
  {
   "cell_type": "code",
   "execution_count": 28,
   "metadata": {},
   "outputs": [],
   "source": [
    "# Source: Scikit Learn website\n",
    "# http://scikit-learn.org/stable/auto_examples/\n",
    "# model_selection/plot_confusion_matrix.html#sphx-glr-auto-examples-model-\n",
    "# selection-plot-confusion-matrix-py\n",
    "\n",
    "\n",
    "def plot_confusion_matrix(cm, classes,\n",
    "                          normalize=False,\n",
    "                          title='Confusion matrix',\n",
    "                          cmap=plt.cm.Blues):\n",
    "    \"\"\"\n",
    "    This function prints and plots the confusion matrix.\n",
    "    Normalization can be applied by setting `normalize=True`.\n",
    "    \"\"\"\n",
    "    if normalize:\n",
    "        cm = cm.astype('float') / cm.sum(axis=1)[:, np.newaxis]\n",
    "        print(\"Normalized confusion matrix\")\n",
    "    else:\n",
    "        print('Confusion matrix, without normalization')\n",
    "\n",
    "    print(cm)\n",
    "\n",
    "    plt.imshow(cm, interpolation='nearest', cmap=cmap)\n",
    "    plt.title(title)\n",
    "    plt.colorbar()\n",
    "    tick_marks = np.arange(len(classes))\n",
    "    plt.xticks(tick_marks, classes, rotation=45)\n",
    "    plt.yticks(tick_marks, classes)\n",
    "\n",
    "    fmt = '.2f' if normalize else 'd'\n",
    "    thresh = cm.max() / 2.\n",
    "    for i, j in itertools.product(range(cm.shape[0]), range(cm.shape[1])):\n",
    "        plt.text(j, i, format(cm[i, j], fmt),\n",
    "                 horizontalalignment=\"center\",\n",
    "                 color=\"white\" if cm[i, j] > thresh else \"black\")\n",
    "\n",
    "    plt.ylabel('True label')\n",
    "    plt.xlabel('Predicted label')\n",
    "    plt.tight_layout()"
   ]
  },
  {
   "cell_type": "code",
   "execution_count": 29,
   "metadata": {},
   "outputs": [
    {
     "data": {
      "text/plain": [
       "(938,)"
      ]
     },
     "execution_count": 29,
     "metadata": {},
     "output_type": "execute_result"
    }
   ],
   "source": [
    "test_labels.shape"
   ]
  },
  {
   "cell_type": "code",
   "execution_count": 30,
   "metadata": {},
   "outputs": [],
   "source": [
    "# argmax returns the index of the max value in a row\n",
    "cm = confusion_matrix(test_labels, predictions.argmax(axis=1))"
   ]
  },
  {
   "cell_type": "code",
   "execution_count": 31,
   "metadata": {},
   "outputs": [
    {
     "data": {
      "text/plain": [
       "{'akiec': 0, 'bcc': 1, 'bkl': 2, 'df': 3, 'mel': 4, 'nv': 5, 'vasc': 6}"
      ]
     },
     "execution_count": 31,
     "metadata": {},
     "output_type": "execute_result"
    }
   ],
   "source": [
    "test_batches.class_indices"
   ]
  },
  {
   "cell_type": "code",
   "execution_count": 32,
   "metadata": {},
   "outputs": [
    {
     "name": "stdout",
     "output_type": "stream",
     "text": [
      "Confusion matrix, without normalization\n",
      "[[ 16   1   4   0   3   2   0]\n",
      " [  0  25   3   0   1   0   1]\n",
      " [  1   0  55   0   7  12   0]\n",
      " [  0   0   0   3   1   2   0]\n",
      " [  2   1   4   0  20  12   0]\n",
      " [  4   3  15   3  19 705   2]\n",
      " [  0   0   0   0   0   1  10]]\n"
     ]
    },
    {
     "data": {
      "image/png": "[encoded data removed]",
      "text/plain": [
       "<Figure size 432x288 with 2 Axes>"
      ]
     },
     "metadata": {
      "needs_background": "light"
     },
     "output_type": "display_data"
    }
   ],
   "source": [
    "# Define the labels of the class indices. These need to match the \n",
    "# order shown above.\n",
    "cm_plot_labels = ['akiec', 'bcc', 'bkl', 'df', 'mel','nv', 'vasc']\n",
    "\n",
    "plot_confusion_matrix(cm, cm_plot_labels, title='Confusion Matrix')"
   ]
  },
  {
   "cell_type": "code",
   "execution_count": 33,
   "metadata": {},
   "outputs": [],
   "source": [
    "# Get the index of the class with the highest probability score\n",
    "y_pred = np.argmax(predictions, axis=1)\n",
    "\n",
    "# Get the labels of the test images.\n",
    "y_true = test_batches.classes"
   ]
  },
  {
   "cell_type": "code",
   "execution_count": 34,
   "metadata": {},
   "outputs": [
    {
     "name": "stdout",
     "output_type": "stream",
     "text": [
      "              precision    recall  f1-score   support\n",
      "\n",
      "       akiec       0.70      0.62      0.65        26\n",
      "         bcc       0.83      0.83      0.83        30\n",
      "         bkl       0.68      0.73      0.71        75\n",
      "          df       0.50      0.50      0.50         6\n",
      "         mel       0.39      0.51      0.44        39\n",
      "          nv       0.96      0.94      0.95       751\n",
      "        vasc       0.77      0.91      0.83        11\n",
      "\n",
      "    accuracy                           0.89       938\n",
      "   macro avg       0.69      0.72      0.70       938\n",
      "weighted avg       0.90      0.89      0.89       938\n",
      "\n"
     ]
    }
   ],
   "source": [
    "from sklearn.metrics import classification_report\n",
    "\n",
    "# Generate a classification report\n",
    "report = classification_report(y_true, y_pred, target_names=cm_plot_labels)\n",
    "\n",
    "print(report)"
   ]
  },
  {
   "cell_type": "code",
   "execution_count": 36,
   "metadata": {},
   "outputs": [
    {
     "data": {
      "text/plain": [
       "[0.5095815062522888,\n",
       " 0.6215442419052124,\n",
       " 0.6672907471656799,\n",
       " 0.7065756320953369,\n",
       " 0.7110131978988647,\n",
       " 0.742621123790741,\n",
       " 0.7879955768585205,\n",
       " 0.8029735684394836,\n",
       " 0.8227973580360413,\n",
       " 0.8308370113372803,\n",
       " 0.841519832611084,\n",
       " 0.8620043992996216,\n",
       " 0.8768722414970398,\n",
       " 0.8882158398628235,\n",
       " 0.9029735922813416,\n",
       " 0.9144273400306702,\n",
       " 0.9207048416137695,\n",
       " 0.9272026419639587,\n",
       " 0.9314978122711182,\n",
       " 0.9356828331947327,\n",
       " 0.9406387805938721,\n",
       " 0.94382643699646,\n",
       " 0.9392070770263672,\n",
       " 0.9425047039985657,\n",
       " 0.9427312612533569,\n",
       " 0.9406387805938721,\n",
       " 0.942064106464386,\n",
       " 0.9433920979499817,\n",
       " 0.9449338912963867,\n",
       " 0.9448238015174866]"
      ]
     },
     "execution_count": 36,
     "metadata": {},
     "output_type": "execute_result"
    }
   ],
   "source": [
    "history.history['categorical_accuracy']"
   ]
  },
  {
   "cell_type": "code",
   "execution_count": null,
   "metadata": {},
   "outputs": [],
   "source": []
  }
 ],
 "metadata": {
  "kernelspec": {
   "display_name": "Python 3",
   "language": "python",
   "name": "python3"
  },
  "language_info": {
   "codemirror_mode": {
    "name": "ipython",
    "version": 3
   },
   "file_extension": ".py",
   "mimetype": "text/x-python",
   "name": "python",
   "nbconvert_exporter": "python",
   "pygments_lexer": "ipython3",
   "version": "3.7.5"
  }
 },
 "nbformat": 4,
 "nbformat_minor": 4
}
