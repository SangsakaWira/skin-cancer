{
  "nbformat": 4,
  "nbformat_minor": 0,
  "metadata": {
    "colab": {
      "name": "Skin-Cancer-Classification.ipynb",
      "provenance": [],
      "collapsed_sections": [],
      "authorship_tag": "ABX9TyMvoWiy9h6wWswGx6PN2Occ",
      "include_colab_link": true
    },
    "kernelspec": {
      "name": "python3",
      "display_name": "Python 3"
    }
  },
  "cells": [
    {
      "cell_type": "markdown",
      "metadata": {
        "id": "view-in-github",
        "colab_type": "text"
      },
      "source": [
        "<a href=\"https://colab.research.google.com/github/Triginarsa/skin-cancer/blob/fandi-branch/Skin_Cancer_Classification.ipynb\" target=\"_parent\"><img src=\"https://colab.research.google.com/assets/colab-badge.svg\" alt=\"Open In Colab\"/></a>"
      ]
    },
    {
      "cell_type": "markdown",
      "metadata": {
        "id": "4fzTlAb1zZBB",
        "colab_type": "text"
      },
      "source": [
        "# IMPORT DATASET SKIN CANCER MNIST HAM 10K\n"
      ]
    },
    {
      "cell_type": "markdown",
      "metadata": {
        "id": "C8kxZtkJ38eg",
        "colab_type": "text"
      },
      "source": [
        "Input Data \n",
        "\n",
        "The input data are dermoscopic lesion images in JPEG format.\n",
        "\n",
        "All lesion images are named using the scheme ISIC_<image_id>.jpg, where <image_id> is a 7-digit unique identifier. EXIF tags in the images have been removed; any remaining EXIF tags should not be relied upon to provide accurate metadata.\n",
        "\n",
        "The lesion images were acquired with a variety of dermatoscope types, from all anatomic sites (excluding mucosa and nails), from a historical sample of patients presented for skin cancer screening, from several different institutions. Every lesion image contains exactly one primary lesion; other fiducial markers, smaller secondary lesions, or other pigmented regions may be neglected.\n",
        "\n",
        "The distribution of disease states represent a modified “real world” setting whereby there are more benign lesions than malignant lesions, but an over-representation of malignancies."
      ]
    },
    {
      "cell_type": "markdown",
      "metadata": {
        "id": "wrEG3tW67UIh",
        "colab_type": "text"
      },
      "source": [
        "The images in the data-set are separated into the following seven types of skin cancer:\n",
        "\n",
        "**Actinic keratosis** **(akiec) **is considered to be a noncancerous (benign) type of skin cancer. However, if left untreated, it usually develops into squamous cell carcinoma (which is cancerous).\n",
        "\n",
        "**Unlike actinic keratosis** **(bcc)**, basal cell carcinoma is a cancerous type of skin lesion that develops in the basal cell layer located in the lower part of the epidermis. It is the most common type of skin cancer accounting for 80% of all cases.\n",
        "\n",
        "**Benign keratosis** **(bkl)** is a noncancerous and slow-growing type of skin cancer. They can be left untreated as they are typically harmless.\n",
        "\n",
        "**Dermatofibromas** **(df)** are also noncancerous and usually harmless, thus no treatment is required. It is commonly found pinkish in color and appears like a round bump.\n",
        "\n",
        "**Melanoma** **(mel)** is a type of malignant skin cancer that originated from melanocytes, cells that are responsible for the pigment of your skin.\n",
        "\n",
        "**Melanocytic** **(nv)** nevi are a benign type of melanocytic tumor. Patients with melanocytic nevi are considered to be at a higher risk of melanoma.\n",
        "\n",
        "**Vascular** **(vasc)** lesions are composed of a wide range of skin lesion including cherry angiomas, angiokeratomas, and pyogenic granulomas. They are similarly characterized as being red or purple in color and often appear as a raised bump."
      ]
    },
    {
      "cell_type": "code",
      "metadata": {
        "id": "x2YnDOKWztSy",
        "colab_type": "code",
        "colab": {}
      },
      "source": [
        "! pip install -q kaggle"
      ],
      "execution_count": null,
      "outputs": []
    },
    {
      "cell_type": "code",
      "metadata": {
        "id": "5b63o3np0-RS",
        "colab_type": "code",
        "colab": {}
      },
      "source": [
        "# upload your token from kaggle\n",
        "from google.colab import files\n",
        "files.upload()"
      ],
      "execution_count": null,
      "outputs": []
    },
    {
      "cell_type": "code",
      "metadata": {
        "id": "hE5EpDVn1B-a",
        "colab_type": "code",
        "colab": {}
      },
      "source": [
        "! mkdir ~/.kaggle\n",
        "! cp kaggle.json ~/.kaggle/\n",
        "! chmod 600 ~/.kaggle/kaggle.json"
      ],
      "execution_count": null,
      "outputs": []
    },
    {
      "cell_type": "code",
      "metadata": {
        "id": "qVKWpvRj2XBy",
        "colab_type": "code",
        "colab": {}
      },
      "source": [
        "!kaggle datasets download -d kmader/skin-cancer-mnist-ham10000\n",
        "!unzip skin-cancer-mnist-ham10000"
      ],
      "execution_count": null,
      "outputs": []
    },
    {
      "cell_type": "markdown",
      "metadata": {
        "id": "nkrWosThIOfS",
        "colab_type": "text"
      },
      "source": [
        "# PREPROCESSING DATASET"
      ]
    },
    {
      "cell_type": "code",
      "metadata": {
        "id": "6mbFn22fIKrU",
        "colab_type": "code",
        "colab": {}
      },
      "source": [
        "import os\n",
        "# Checking content folder\n",
        "os.listdir('../content')"
      ],
      "execution_count": null,
      "outputs": []
    },
    {
      "cell_type": "code",
      "metadata": {
        "id": "LkUDdSFwrzR_",
        "colab_type": "code",
        "colab": {}
      },
      "source": [
        "# create base dir\n",
        "base_dir = 'base_dir'\n",
        "os.mkdir(base_dir)"
      ],
      "execution_count": null,
      "outputs": []
    },
    {
      "cell_type": "code",
      "metadata": {
        "id": "60OuvX80r9gX",
        "colab_type": "code",
        "colab": {}
      },
      "source": [
        "# create train_dir\n",
        "train_dir = os.path.join(base_dir, 'train_dir')\n",
        "os.mkdir(train_dir)\n",
        "\n",
        "# create val_dir\n",
        "val_dir = os.path.join(base_dir, 'val_dir')\n",
        "os.mkdir(val_dir)"
      ],
      "execution_count": null,
      "outputs": []
    },
    {
      "cell_type": "code",
      "metadata": {
        "id": "l3lWzaClsEvg",
        "colab_type": "code",
        "colab": {}
      },
      "source": [
        "# create train subdir 7 categories\n",
        "nv = os.path.join(train_dir, 'nv')\n",
        "os.mkdir(nv)\n",
        "mel = os.path.join(train_dir, 'mel')\n",
        "os.mkdir(mel)\n",
        "bkl = os.path.join(train_dir, 'bkl')\n",
        "os.mkdir(bkl)\n",
        "bcc = os.path.join(train_dir, 'bcc')\n",
        "os.mkdir(bcc)\n",
        "akiec = os.path.join(train_dir, 'akiec')\n",
        "os.mkdir(akiec)\n",
        "vasc = os.path.join(train_dir, 'vasc')\n",
        "os.mkdir(vasc)\n",
        "df = os.path.join(train_dir, 'df')\n",
        "os.mkdir(df)"
      ],
      "execution_count": null,
      "outputs": []
    },
    {
      "cell_type": "code",
      "metadata": {
        "id": "gDpYrTDgsKoa",
        "colab_type": "code",
        "colab": {}
      },
      "source": [
        "# create val subdir 7 categories \n",
        "nv = os.path.join(val_dir, 'nv')\n",
        "os.mkdir(nv)\n",
        "mel = os.path.join(val_dir, 'mel')\n",
        "os.mkdir(mel)\n",
        "bkl = os.path.join(val_dir, 'bkl')\n",
        "os.mkdir(bkl)\n",
        "bcc = os.path.join(val_dir, 'bcc')\n",
        "os.mkdir(bcc)\n",
        "akiec = os.path.join(val_dir, 'akiec')\n",
        "os.mkdir(akiec)\n",
        "vasc = os.path.join(val_dir, 'vasc')\n",
        "os.mkdir(vasc)\n",
        "df = os.path.join(val_dir, 'df')\n",
        "os.mkdir(df)"
      ],
      "execution_count": null,
      "outputs": []
    },
    {
      "cell_type": "code",
      "metadata": {
        "id": "Zcq_Ju7ysfzl",
        "colab_type": "code",
        "colab": {}
      },
      "source": [
        "import pandas as pd\n",
        "# read csv file\n",
        "df_data = pd.read_csv('../content/HAM10000_metadata.csv')\n",
        "df_data.head()"
      ],
      "execution_count": null,
      "outputs": []
    },
    {
      "cell_type": "code",
      "metadata": {
        "id": "D9twjbt1iRCE",
        "colab_type": "code",
        "colab": {}
      },
      "source": [
        "%matplotlib inline\n",
        "import matplotlib.pyplot as plt\n",
        "# chect distibution data\n",
        "fig, ax1 = plt.subplots(1, 1, figsize= (10, 5))\n",
        "df_data['dx'].value_counts().plot(kind='bar', ax=ax1)"
      ],
      "execution_count": null,
      "outputs": []
    },
    {
      "cell_type": "code",
      "metadata": {
        "id": "RK67hjAqvFm1",
        "colab_type": "code",
        "colab": {}
      },
      "source": [
        "# how many images are associated with each lesion_id\n",
        "df = df_data.groupby('lesion_id').count()\n",
        "# have only one image associated with it\n",
        "df = df[df['image_id'] == 1]\n",
        "df.reset_index(inplace=True)\n",
        "df.head()"
      ],
      "execution_count": null,
      "outputs": []
    },
    {
      "cell_type": "code",
      "metadata": {
        "id": "qHBlyBAzu1ah",
        "colab_type": "code",
        "colab": {}
      },
      "source": [
        "def identify_duplicates(x):\n",
        "    unique_list = list(df['lesion_id'])\n",
        "    if x in unique_list:\n",
        "        return 'no_duplicates'\n",
        "    else:\n",
        "        return 'has_duplicates'\n",
        "    \n",
        "# create a new colum that is a copy of the lesion_id column\n",
        "df_data['duplicates'] = df_data['lesion_id']\n",
        "# apply the function to this new column\n",
        "df_data['duplicates'] = df_data['duplicates'].apply(identify_duplicates)\n",
        "\n",
        "df_data.head()"
      ],
      "execution_count": null,
      "outputs": []
    },
    {
      "cell_type": "code",
      "metadata": {
        "id": "YvC-a7dvvVCQ",
        "colab_type": "code",
        "colab": {}
      },
      "source": [
        "# count has duplicates and no duplicates\n",
        "df_data['duplicates'].value_counts()"
      ],
      "execution_count": null,
      "outputs": []
    },
    {
      "cell_type": "code",
      "metadata": {
        "id": "23I9FRrxvpD3",
        "colab_type": "code",
        "colab": {}
      },
      "source": [
        "# filter out images that don't have duplicates\n",
        "df = df_data[df_data['duplicates'] == 'no_duplicates']\n",
        "df.shape"
      ],
      "execution_count": null,
      "outputs": []
    },
    {
      "cell_type": "code",
      "metadata": {
        "id": "hTX2F7Bnv6wL",
        "colab_type": "code",
        "colab": {}
      },
      "source": [
        "from sklearn.model_selection import train_test_split\n",
        "# create a val set using df because we are sure that none of these images\n",
        "# have augmented duplicates in the train set\n",
        "y = df['dx']\n",
        "_, df_val = train_test_split(df, test_size=0.17, random_state=101, stratify=y)\n",
        "df_val.shape"
      ],
      "execution_count": null,
      "outputs": []
    },
    {
      "cell_type": "code",
      "metadata": {
        "id": "z8SY14b_wI8j",
        "colab_type": "code",
        "colab": {}
      },
      "source": [
        "# check df_val\n",
        "df_val['dx'].value_counts()"
      ],
      "execution_count": null,
      "outputs": []
    },
    {
      "cell_type": "code",
      "metadata": {
        "id": "Iltn5EFZwazD",
        "colab_type": "code",
        "colab": {}
      },
      "source": [
        "# identify val or train\n",
        "def identify_val_rows(x):\n",
        "    # create a list of all the lesion_id's in the val set\n",
        "    val_list = list(df_val['image_id']) \n",
        "    if str(x) in val_list:\n",
        "        return 'val'\n",
        "    else:\n",
        "        return 'train'"
      ],
      "execution_count": null,
      "outputs": []
    },
    {
      "cell_type": "code",
      "metadata": {
        "id": "_IoOoOkIwpz3",
        "colab_type": "code",
        "colab": {}
      },
      "source": [
        "# create a new colum that is a copy of the image_id column\n",
        "df_data['train_or_val'] = df_data['image_id']\n",
        "# apply the function to this new column\n",
        "df_data['train_or_val'] = df_data['train_or_val'].apply(identify_val_rows)   \n",
        "# filter out train rows\n",
        "df_train = df_data[df_data['train_or_val'] == 'train']"
      ],
      "execution_count": null,
      "outputs": []
    },
    {
      "cell_type": "code",
      "metadata": {
        "id": "IgnXQ7mV36K_",
        "colab_type": "code",
        "colab": {}
      },
      "source": [
        "df_data.head()"
      ],
      "execution_count": null,
      "outputs": []
    },
    {
      "cell_type": "code",
      "metadata": {
        "id": "QBNjNnjNamWg",
        "colab_type": "code",
        "colab": {}
      },
      "source": [
        "len(df_train)"
      ],
      "execution_count": null,
      "outputs": []
    },
    {
      "cell_type": "code",
      "metadata": {
        "id": "A2wa4q33amf3",
        "colab_type": "code",
        "colab": {}
      },
      "source": [
        "len(df_val)"
      ],
      "execution_count": null,
      "outputs": []
    },
    {
      "cell_type": "code",
      "metadata": {
        "id": "By6X7tuQu_Zc",
        "colab_type": "code",
        "colab": {}
      },
      "source": [
        "# check df_train\n",
        "df_train['dx'].value_counts() "
      ],
      "execution_count": null,
      "outputs": []
    },
    {
      "cell_type": "code",
      "metadata": {
        "id": "Ltp9fNxAxYmm",
        "colab_type": "code",
        "colab": {}
      },
      "source": [
        "# Set the image_id as the index in df_data\n",
        "df_data.set_index('image_id', inplace=True)"
      ],
      "execution_count": null,
      "outputs": []
    },
    {
      "cell_type": "code",
      "metadata": {
        "id": "xJZfzYdNxZ5Z",
        "colab_type": "code",
        "colab": {}
      },
      "source": [
        "# folder datasets\n",
        "part_1 = os.listdir('../content/ham10000_images_part_1')\n",
        "part_2 = os.listdir('../content/ham10000_images_part_2')\n",
        "\n",
        "# list of train and val dataset\n",
        "train_list = list(df_train['image_id'])\n",
        "val_list = list(df_val['image_id'])"
      ],
      "execution_count": null,
      "outputs": []
    },
    {
      "cell_type": "code",
      "metadata": {
        "id": "fuKxCUMMxy7Q",
        "colab_type": "code",
        "colab": {}
      },
      "source": [
        "import shutil\n",
        "# copy image train\n",
        "for image in train_list:\n",
        "    # jpg file\n",
        "    fname = image + '.jpg'\n",
        "    # label\n",
        "    label = df_data.loc[image,'dx']\n",
        "    if fname in part_1:\n",
        "        # dir jpg file 1\n",
        "        src = os.path.join('../content/ham10000_images_part_1', fname)\n",
        "        # destination train jpg file with 7 categories\n",
        "        dst = os.path.join(train_dir, label, fname)\n",
        "        # copy src to dst\n",
        "        shutil.copyfile(src, dst)\n",
        "\n",
        "    if fname in part_2:\n",
        "        # dir jpg file 2\n",
        "        src = os.path.join('../content/ham10000_images_part_2', fname)\n",
        "        # destination train jpg file with 7 categories\n",
        "        dst = os.path.join(train_dir, label, fname)\n",
        "        # copy src to dst\n",
        "        shutil.copyfile(src, dst)"
      ],
      "execution_count": null,
      "outputs": []
    },
    {
      "cell_type": "code",
      "metadata": {
        "id": "rfa6fliiyjcH",
        "colab_type": "code",
        "colab": {}
      },
      "source": [
        "# copy image val\n",
        "for image in val_list:\n",
        "    fname = image + '.jpg'\n",
        "    label = df_data.loc[image,'dx']\n",
        "    \n",
        "    if fname in part_1:\n",
        "        src = os.path.join('../content/ham10000_images_part_1', fname)\n",
        "        dst = os.path.join(val_dir, label, fname)\n",
        "        shutil.copyfile(src, dst)\n",
        "\n",
        "    if fname in part_2:\n",
        "        src = os.path.join('../content/ham10000_images_part_2', fname)\n",
        "        dst = os.path.join(val_dir, label, fname)\n",
        "        shutil.copyfile(src, dst)"
      ],
      "execution_count": null,
      "outputs": []
    },
    {
      "cell_type": "code",
      "metadata": {
        "id": "aAyJUt30zczG",
        "colab_type": "code",
        "colab": {}
      },
      "source": [
        "# check image train_dir\n",
        "print(len(os.listdir('base_dir/train_dir/nv')))\n",
        "print(len(os.listdir('base_dir/train_dir/mel')))\n",
        "print(len(os.listdir('base_dir/train_dir/bkl')))\n",
        "print(len(os.listdir('base_dir/train_dir/bcc')))\n",
        "print(len(os.listdir('base_dir/train_dir/akiec')))\n",
        "print(len(os.listdir('base_dir/train_dir/vasc')))\n",
        "print(len(os.listdir('base_dir/train_dir/df')))"
      ],
      "execution_count": null,
      "outputs": []
    },
    {
      "cell_type": "code",
      "metadata": {
        "id": "WdT58exkzxxq",
        "colab_type": "code",
        "colab": {}
      },
      "source": [
        "# check image val_dir\n",
        "print(len(os.listdir('base_dir/val_dir/nv')))\n",
        "print(len(os.listdir('base_dir/val_dir/mel')))\n",
        "print(len(os.listdir('base_dir/val_dir/bkl')))\n",
        "print(len(os.listdir('base_dir/val_dir/bcc')))\n",
        "print(len(os.listdir('base_dir/val_dir/akiec')))\n",
        "print(len(os.listdir('base_dir/val_dir/vasc')))\n",
        "print(len(os.listdir('base_dir/val_dir/df')))"
      ],
      "execution_count": null,
      "outputs": []
    },
    {
      "cell_type": "code",
      "metadata": {
        "id": "SBeH10JsjoGZ",
        "colab_type": "code",
        "colab": {}
      },
      "source": [
        "# Make Augmented image then saved it locally\n",
        "from tensorflow.keras.preprocessing.image import ImageDataGenerator"
      ],
      "execution_count": null,
      "outputs": []
    },
    {
      "cell_type": "code",
      "metadata": {
        "id": "l3_R9a4gj82G",
        "colab_type": "code",
        "colab": {}
      },
      "source": [
        "# not augmented \"nv\" label because the data is already a lot\n",
        "label_list = ['mel',\n",
        "              'bkl',\n",
        "              'bcc',\n",
        "              'akiec',\n",
        "              'vasc',\n",
        "              'df']"
      ],
      "execution_count": null,
      "outputs": []
    },
    {
      "cell_type": "code",
      "metadata": {
        "id": "v3xR7l1_vzK-",
        "colab_type": "code",
        "colab": {}
      },
      "source": [
        "for item in label_list:\n",
        "    # We are creating temporary directories here because we delete these directories later\n",
        "    # create a base dir\n",
        "    aug_dir = 'aug_dir'\n",
        "    os.mkdir(aug_dir)\n",
        "    # create a dir within the base dir to store images of the same class\n",
        "    img_dir = os.path.join(aug_dir, 'img_dir')\n",
        "    os.mkdir(img_dir)\n",
        "\n",
        "    # Choose a class\n",
        "    img_class = item\n",
        "\n",
        "    # list all images in that directory\n",
        "    img_list = os.listdir('base_dir/train_dir/' + img_class)\n",
        "\n",
        "    # Copy images from the class train dir to the img_dir e.g. class 'mel'\n",
        "    for fname in img_list:\n",
        "            # source path to image\n",
        "            src = os.path.join('base_dir/train_dir/' + img_class, fname)\n",
        "            # destination path to image\n",
        "            dst = os.path.join(img_dir, fname)\n",
        "            # copy the image from the source to the destination\n",
        "            shutil.copyfile(src, dst)\n",
        "\n",
        "    # point to a dir containing the images and not to the images themselves\n",
        "    path = aug_dir\n",
        "    save_path = 'base_dir/train_dir/' + img_class\n",
        "\n",
        "    # Create a data generator\n",
        "    datagen = ImageDataGenerator(\n",
        "        rotation_range=40,\n",
        "        width_shift_range=0.2,\n",
        "        height_shift_range=0.2,\n",
        "        zoom_range=0.2,\n",
        "        shear_range = 0.2,\n",
        "        horizontal_flip=True,\n",
        "        vertical_flip=True,\n",
        "        fill_mode='nearest')\n",
        "\n",
        "    batch_size = 50\n",
        "\n",
        "    aug_datagen = datagen.flow_from_directory(path,\n",
        "                                           save_to_dir=save_path,\n",
        "                                           save_format='jpg',\n",
        "                                           target_size=(224,224),\n",
        "                                           batch_size=batch_size)\n",
        "    \n",
        "    # Generate the augmented images and add them to the training folders\n",
        "    num_aug_images_wanted = 6000 # total number of images we want to have in each class\n",
        "    \n",
        "    num_files = len(os.listdir(img_dir))\n",
        "    num_batches = int(np.ceil((num_aug_images_wanted-num_files)/batch_size))\n",
        "\n",
        "    # run the generator and create about 6000 augmented images\n",
        "    for i in range(0,num_batches):\n",
        "        imgs, labels = next(aug_datagen)\n",
        "        \n",
        "    # delete temporary directory with the raw image files\n",
        "    shutil.rmtree('aug_dir')"
      ],
      "execution_count": null,
      "outputs": []
    },
    {
      "cell_type": "code",
      "metadata": {
        "id": "afF_bVVE0Fcb",
        "colab_type": "code",
        "colab": {}
      },
      "source": [
        "# This is the original images plus the augmented images.\n",
        "# The data distribution of train_dir is evenly distributed\n",
        "# The distribution of val_dir hasn't changed\n",
        "print(len(os.listdir('base_dir/train_dir/nv')))\n",
        "print(len(os.listdir('base_dir/train_dir/mel')))\n",
        "print(len(os.listdir('base_dir/train_dir/bkl')))\n",
        "print(len(os.listdir('base_dir/train_dir/bcc')))\n",
        "print(len(os.listdir('base_dir/train_dir/akiec')))\n",
        "print(len(os.listdir('base_dir/train_dir/vasc')))\n",
        "print(len(os.listdir('base_dir/train_dir/df')))"
      ],
      "execution_count": null,
      "outputs": []
    },
    {
      "cell_type": "code",
      "metadata": {
        "id": "zlTW1Ahi3SMG",
        "colab_type": "code",
        "colab": {}
      },
      "source": [
        "import matplotlib.pyplot as plt\n",
        "import numpy as np"
      ],
      "execution_count": null,
      "outputs": []
    },
    {
      "cell_type": "code",
      "metadata": {
        "id": "LFqUaEQK047_",
        "colab_type": "code",
        "colab": {}
      },
      "source": [
        "# Visualizaation image\n",
        "def plots(ims, figsize=(15,15), rows=7, interp=False, titles=None): \n",
        "    if type(ims[0]) is np.ndarray:\n",
        "        ims = np.array(ims).astype(np.uint8)\n",
        "        if (ims.shape[-1] != 3):\n",
        "            ims = ims.transpose((0,2,3,1))\n",
        "    f = plt.figure(figsize=figsize)\n",
        "    cols = len(ims)//rows if len(ims) % 2 == 0 else len(ims)//rows + 1\n",
        "    for i in range(len(ims)):\n",
        "        sp = f.add_subplot(rows, cols, i+1)\n",
        "        sp.axis('Off')\n",
        "        if titles is not None:\n",
        "            sp.set_title(titles[i], fontsize=16)\n",
        "        plt.imshow(ims[i], interpolation=None if interp else 'none')\n",
        "        \n",
        "plots(imgs, titles=None)"
      ],
      "execution_count": null,
      "outputs": []
    },
    {
      "cell_type": "markdown",
      "metadata": {
        "id": "RGXbV2trgqJ9",
        "colab_type": "text"
      },
      "source": [
        "# BUILD MODEL"
      ]
    },
    {
      "cell_type": "code",
      "metadata": {
        "id": "qYwNpUyGPExX",
        "colab_type": "code",
        "colab": {}
      },
      "source": [
        "from tensorflow.keras.models import Sequential, Model, load_model\n",
        "from tensorflow.keras.applications import mobilenet_v2\n",
        "from tensorflow.keras.layers import Conv2D, MaxPooling2D, Dense, Dropout, Reshape, GlobalAveragePooling2D\n",
        "from tensorflow.keras.layers import Input, Flatten, Activation\n",
        "from tensorflow.keras.optimizers import Adam, SGD, RMSprop\n",
        "from tensorflow.keras.callbacks import ModelCheckpoint, Callback, EarlyStopping, ReduceLROnPlateau\n",
        "from tensorflow.keras.utils import to_categorical\n",
        "from tensorflow.keras.metrics import top_k_categorical_accuracy, categorical_accuracy\n",
        "from tensorflow.keras.preprocessing.image import ImageDataGenerator\n",
        "from tensorflow.keras import backend as K\n",
        "import tensorflow as tf\n",
        "from tensorflow.keras import layers\n",
        "import itertools\n",
        "print(tf.__version__)"
      ],
      "execution_count": null,
      "outputs": []
    },
    {
      "cell_type": "code",
      "metadata": {
        "id": "0-yDQ0ThOuvF",
        "colab_type": "code",
        "colab": {}
      },
      "source": [
        "# some constants\n",
        "IMG_HEIGHT = 224\n",
        "IMG_WIDTH = 224\n",
        "IMG_CHANNEL = 3\n",
        "TRAINING_IMAGE_LEN = 38569\n",
        "TESTING_IMAGE_LEN = 938\n",
        "BATCH_SIZE = 64"
      ],
      "execution_count": null,
      "outputs": []
    },
    {
      "cell_type": "code",
      "metadata": {
        "id": "8ZnMELSHIYtc",
        "colab_type": "code",
        "colab": {}
      },
      "source": [
        "# Set Variabel Here\n",
        "train_dir = 'base_dir/train_dir'\n",
        "validation_dir = 'base_dir/val_dir'\n",
        "\n",
        "print(len(os.listdir(train_dir)))\n",
        "print(len(os.listdir(validation_dir)))"
      ],
      "execution_count": null,
      "outputs": []
    },
    {
      "cell_type": "code",
      "metadata": {
        "id": "_nXIDz_fZbiu",
        "colab_type": "code",
        "colab": {}
      },
      "source": [
        "# Get a generator \n",
        "train_datagen = ImageDataGenerator(\n",
        "    rescale=1. / 255,\n",
        "    preprocessing_function=mobilenet_v2.preprocess_input,\n",
        "    rotation_range=40,\n",
        "    width_shift_range=0.2,\n",
        "    height_shift_range=0.2,\n",
        "    zoom_range=0.2,\n",
        "    shear_range = 0.2,\n",
        "    horizontal_flip=True,\n",
        "    vertical_flip=True,\n",
        "    fill_mode='nearest'\n",
        "    )\n",
        "\n",
        "valid_datagen = ImageDataGenerator(\n",
        "    rescale=1. / 255,\n",
        "    preprocessing_function=mobilenet_v2.preprocess_input\n",
        "    )"
      ],
      "execution_count": null,
      "outputs": []
    },
    {
      "cell_type": "code",
      "metadata": {
        "id": "oQE2hF9FO7sr",
        "colab_type": "code",
        "colab": {}
      },
      "source": [
        "# Make data generator for training and validation data\n",
        "train_datagenerator = train_datagen.flow_from_directory(\n",
        "    train_dir,                           \n",
        "    target_size=(IMG_HEIGHT, IMG_WIDTH), \n",
        "    class_mode=\"categorical\",\n",
        "    batch_size=BATCH_SIZE\n",
        "    )\n",
        "\n",
        "valid_datagenerator = valid_datagen.flow_from_directory(\n",
        "    validation_dir, \n",
        "    target_size=(IMG_HEIGHT, IMG_WIDTH), \n",
        "    class_mode=\"categorical\",   \n",
        "    batch_size=BATCH_SIZE\n",
        "    )\n",
        "\n",
        "test_datagenerator = valid_datagen.flow_from_directory(\n",
        "    validation_dir, \n",
        "    target_size=(IMG_HEIGHT, IMG_WIDTH), \n",
        "    class_mode=\"categorical\",   \n",
        "    batch_size=1,\n",
        "    shuffle=False\n",
        "    )"
      ],
      "execution_count": null,
      "outputs": []
    },
    {
      "cell_type": "code",
      "metadata": {
        "id": "TNqaT059FYns",
        "colab_type": "code",
        "colab": {}
      },
      "source": [
        "# imports the MobileNetV2 model and discards the last 1000 neuron layer.\n",
        "base_model=mobilenet_v2.MobileNetV2(\n",
        "    input_shape=(\n",
        "    IMG_HEIGHT,\n",
        "    IMG_WIDTH,\n",
        "    IMG_CHANNEL),\n",
        "    include_top=False,\n",
        "    weights='imagenet',\n",
        "    pooling=\"avg\"\n",
        "    ) "
      ],
      "execution_count": null,
      "outputs": []
    },
    {
      "cell_type": "code",
      "metadata": {
        "id": "IggJV6IquK0z",
        "colab_type": "code",
        "colab": {}
      },
      "source": [
        "base_model.summary()"
      ],
      "execution_count": null,
      "outputs": []
    },
    {
      "cell_type": "code",
      "metadata": {
        "id": "EJae1G4khYUB",
        "colab_type": "code",
        "colab": {}
      },
      "source": [
        "len(base_model.layers)"
      ],
      "execution_count": null,
      "outputs": []
    },
    {
      "cell_type": "code",
      "metadata": {
        "id": "IfR9H9ljKYM2",
        "colab_type": "code",
        "colab": {}
      },
      "source": [
        "# Define Top2 and Top3 Accuracy\n",
        "def top_3_accuracy(y_true, y_pred):\n",
        "    return top_k_categorical_accuracy(y_true, y_pred, k=3)\n",
        "\n",
        "def top_2_accuracy(y_true, y_pred):\n",
        "    return top_k_categorical_accuracy(y_true, y_pred, k=2)"
      ],
      "execution_count": null,
      "outputs": []
    },
    {
      "cell_type": "code",
      "metadata": {
        "id": "aafViRk5Kt_j",
        "colab_type": "code",
        "colab": {}
      },
      "source": [
        "# ADD Layer\n",
        "x = base_model.layers[-2].output\n",
        "x = Dropout(0.25)(x) \n",
        "preds= Dense(7,activation='softmax')(x) \n",
        "model=Model(inputs=base_model.input,outputs=preds) #specify the inputs and outputs\n",
        "model.summary() "
      ],
      "execution_count": null,
      "outputs": []
    },
    {
      "cell_type": "code",
      "metadata": {
        "id": "lbWsYHZyGamM",
        "colab_type": "code",
        "colab": {}
      },
      "source": [
        "model_viz = tf.keras.utils.plot_model(model,\n",
        "                          to_file='model_mobilenetv2.png',\n",
        "                          show_shapes=True,\n",
        "                          show_layer_names=True,\n",
        "                          rankdir='TB',\n",
        "                          expand_nested=True,\n",
        "                          dpi=55)\n",
        "model_viz"
      ],
      "execution_count": null,
      "outputs": []
    },
    {
      "cell_type": "code",
      "metadata": {
        "id": "GJfT8qqfyYxf",
        "colab_type": "code",
        "colab": {}
      },
      "source": [
        "\"\"\" freeze the convolutional base created from the previous step and use \n",
        "that as a feature extractor, add a classifier on top of it \n",
        "and train the top-level classifier\"\"\"\n",
        "model.trainable = False"
      ],
      "execution_count": null,
      "outputs": []
    },
    {
      "cell_type": "markdown",
      "metadata": {
        "id": "Lr3inf2s-kZ1",
        "colab_type": "text"
      },
      "source": [
        "# TRAIN MODEL"
      ]
    },
    {
      "cell_type": "code",
      "metadata": {
        "id": "LfboH4_oOief",
        "colab_type": "code",
        "colab": {}
      },
      "source": [
        "model.compile(Adam(lr=0.01), loss='categorical_crossentropy', \n",
        "              metrics=[categorical_accuracy, top_2_accuracy, top_3_accuracy]) "
      ],
      "execution_count": null,
      "outputs": []
    },
    {
      "cell_type": "code",
      "metadata": {
        "id": "G0RMVNZFPBZQ",
        "colab_type": "code",
        "colab": {}
      },
      "source": [
        "# Add weights to try to make the model more sensitive to melanoma\n",
        "class_weights={\n",
        "    0: 1.0, # akiec\n",
        "    1: 1.0, # bcc\n",
        "    2: 1.0, # bkl\n",
        "    3: 1.0, # df\n",
        "    4: 3.0, # mel # Try to make the model more sensitive to Melanoma.\n",
        "    5: 1.0, # nv\n",
        "    6: 1.0, # vasc\n",
        "}"
      ],
      "execution_count": null,
      "outputs": []
    },
    {
      "cell_type": "code",
      "metadata": {
        "id": "iRGffL3NPH3j",
        "colab_type": "code",
        "colab": {}
      },
      "source": [
        "filepath = \"model_mobilenetv2.h5\"\n",
        "checkpoint = ModelCheckpoint(filepath, monitor='val_top_3_accuracy', verbose=1, \n",
        "                             save_best_only=True, mode='max')\n",
        "\n",
        "reduce_lr = ReduceLROnPlateau(monitor='val_top_3_accuracy', factor=0.5, patience=2, \n",
        "                                   verbose=1, mode='max', min_lr=0.00001)\n",
        "                                                           \n",
        "callbacks_list = [checkpoint, reduce_lr]"
      ],
      "execution_count": null,
      "outputs": []
    },
    {
      "cell_type": "code",
      "metadata": {
        "id": "OMpAP826PUpT",
        "colab_type": "code",
        "colab": {}
      },
      "source": [
        "history = model.fit_generator(train_datagenerator,\n",
        "                              steps_per_epoch = TRAINING_IMAGE_LEN/128,\n",
        "                              epochs = 30 ,\n",
        "                              validation_data = valid_datagenerator,\n",
        "                              validation_steps = TESTING_IMAGE_LEN/128,\n",
        "                              class_weight=class_weights,\n",
        "                              callbacks=callbacks_list)"
      ],
      "execution_count": null,
      "outputs": []
    },
    {
      "cell_type": "code",
      "metadata": {
        "colab_type": "code",
        "id": "ERxGmiRPHD_l",
        "colab": {}
      },
      "source": [
        "# display the curves\n",
        "\n",
        "acc = history.history['categorical_accuracy']\n",
        "val_acc = history.history['val_categorical_accuracy']\n",
        "loss = history.history['loss']\n",
        "val_loss = history.history['val_loss']\n",
        "train_top2_acc = history.history['top_2_accuracy']\n",
        "val_top2_acc = history.history['val_top_2_accuracy']\n",
        "train_top3_acc = history.history['top_3_accuracy']\n",
        "val_top3_acc = history.history['val_top_3_accuracy']\n",
        "epochs = range(1, len(acc) + 1)\n",
        "\n",
        "# curve loss\n",
        "plt.plot(epochs, loss, 'r', label='Training loss')\n",
        "plt.plot(epochs, val_loss, 'b', label='Validation loss')\n",
        "plt.title('Training and validation loss')\n",
        "plt.xlabel('Epoch')\n",
        "plt.ylabel('Loss')\n",
        "plt.legend()\n",
        "plt.figure()\n",
        "\n",
        "# curve cat accuracy\n",
        "plt.plot(epochs, acc, 'r', label='Training cat acc')\n",
        "plt.plot(epochs, val_acc, 'b', label='Validation cat acc')\n",
        "plt.title('Training and validation cat accuracy')\n",
        "plt.xlabel('Epoch')\n",
        "plt.ylabel('Accuracy')\n",
        "plt.legend()\n",
        "plt.figure()\n",
        "\n",
        "# curve top2 accuracy\n",
        "plt.plot(epochs, train_top2_acc, 'r', label='Training top2 acc')\n",
        "plt.plot(epochs, val_top2_acc, 'b', label='Validation top2 acc')\n",
        "plt.title('Training and validation top2 accuracy')\n",
        "plt.xlabel('Epoch')\n",
        "plt.ylabel('Accuracy')\n",
        "plt.legend()\n",
        "plt.figure()\n",
        "\n",
        "# curve top3 acc\n",
        "plt.plot(epochs, train_top3_acc, 'r', label='Training top3 acc')\n",
        "plt.plot(epochs, val_top3_acc, 'b', label='Validation top3 acc')\n",
        "plt.title('Training and validation top3 accuracy')\n",
        "plt.xlabel('Epoch')\n",
        "plt.ylabel('Accuracy')\n",
        "plt.legend()\n",
        "\n",
        "plt.show()"
      ],
      "execution_count": null,
      "outputs": []
    },
    {
      "cell_type": "markdown",
      "metadata": {
        "id": "DfVIi0SH0LdL",
        "colab_type": "text"
      },
      "source": [
        "**FINE TUNING MODEL**"
      ]
    },
    {
      "cell_type": "markdown",
      "metadata": {
        "id": "yS6nHvihHjf9",
        "colab_type": "text"
      },
      "source": [
        "In our feature extraction experiment, you were only training a few layers on top of an MobileNet V2 base model. The weights of the pre-trained network were not updated during training.\n",
        "\n",
        "One way to increase performance even further is to train (or \"fine-tune\") the weights of the top layers of the pre-trained model alongside the training of the classifier you added. The training process will force the weights to be tuned from generic features maps to features associated specifically to our dataset."
      ]
    },
    {
      "cell_type": "code",
      "metadata": {
        "id": "oISsqX1CHsBA",
        "colab_type": "code",
        "colab": {}
      },
      "source": [
        "model.trainable = True"
      ],
      "execution_count": null,
      "outputs": []
    },
    {
      "cell_type": "code",
      "metadata": {
        "id": "rso9pofUNI33",
        "colab_type": "code",
        "colab": {}
      },
      "source": [
        "# freeze  some layers for fine tuning\n",
        "# Fine tune from this layer onwards\n",
        "fine_tune_at = 133\n",
        "\n",
        "# Freeze all the layers before the `fine_tune_at` layer\n",
        "for layer in base_model.layers[:fine_tune_at]: # same with [:-23]\n",
        "  layer.trainable =  False"
      ],
      "execution_count": null,
      "outputs": []
    },
    {
      "cell_type": "code",
      "metadata": {
        "colab_type": "code",
        "id": "ZwY7LhRDIVzQ",
        "colab": {}
      },
      "source": [
        "model.compile(Adam(lr=0.01), loss='categorical_crossentropy', \n",
        "              metrics=[categorical_accuracy, top_2_accuracy, top_3_accuracy]) "
      ],
      "execution_count": null,
      "outputs": []
    },
    {
      "cell_type": "code",
      "metadata": {
        "colab_type": "code",
        "id": "bb-9iiOLIe8-",
        "colab": {}
      },
      "source": [
        "history_fine = model.fit_generator(train_datagenerator,\n",
        "                              steps_per_epoch = TRAINING_IMAGE_LEN/BATCH_SIZE,\n",
        "                              epochs = 30 ,\n",
        "                              validation_data = valid_datagenerator,\n",
        "                              validation_steps = TESTING_IMAGE_LEN/BATCH_SIZE,\n",
        "                              class_weight=class_weights,\n",
        "                              callbacks=callbacks_list)"
      ],
      "execution_count": null,
      "outputs": []
    },
    {
      "cell_type": "markdown",
      "metadata": {
        "id": "7PrSettSC0ZC",
        "colab_type": "text"
      },
      "source": [
        "# EVALUATE"
      ]
    },
    {
      "cell_type": "code",
      "metadata": {
        "id": "v2D0OMwDjbLe",
        "colab_type": "code",
        "colab": {}
      },
      "source": [
        "from skimage.io import imread, imsave\n",
        "from skimage.transform import resize\n",
        "from sklearn.metrics import confusion_matrix, classification_report\n",
        "from sklearn.utils.class_weight import compute_class_weight\n",
        "import json\n",
        "import h5py\n",
        "import seaborn as sns"
      ],
      "execution_count": null,
      "outputs": []
    },
    {
      "cell_type": "code",
      "metadata": {
        "id": "RSvMpYiKJHeo",
        "colab_type": "code",
        "colab": {}
      },
      "source": [
        "test_datagen = data_gen.flow_from_directory(validation_dir,  \n",
        "                                             target_size=(IMG_HEIGHT, IMG_WIDTH), \n",
        "                                             class_mode=\"categorical\",\n",
        "                                             shuffle=True,  \n",
        "                                             batch_size=1)"
      ],
      "execution_count": null,
      "outputs": []
    },
    {
      "cell_type": "code",
      "metadata": {
        "id": "X13ThVuEAWjH",
        "colab_type": "code",
        "colab": {}
      },
      "source": [
        "# get the metric names so we can use evaulate_generator\n",
        "model.metrics_names"
      ],
      "execution_count": null,
      "outputs": []
    },
    {
      "cell_type": "code",
      "metadata": {
        "id": "QwOPpHQAAm6k",
        "colab_type": "code",
        "colab": {}
      },
      "source": [
        "# Here the the last epoch will be used.\n",
        "val_loss, val_cat_acc, val_top_2_acc, val_top_3_acc = \\\n",
        "model.evaluate_generator(test_datagen, \n",
        "                        steps=len(df_val))\n",
        "\n",
        "print('val_loss:', val_loss)\n",
        "print('val_cat_acc:', val_cat_acc)\n",
        "print('val_top_2_acc:', val_top_2_acc)\n",
        "print('val_top_3_acc:', val_top_3_acc)"
      ],
      "execution_count": null,
      "outputs": []
    },
    {
      "cell_type": "code",
      "metadata": {
        "id": "vstk99XjBm8g",
        "colab_type": "code",
        "colab": {}
      },
      "source": [
        "# Here the best epoch will be used.\n",
        "\n",
        "model.load_weights('model_mobilenetv2.h5')\n",
        "\n",
        "val_loss, val_cat_acc, val_top_2_acc, val_top_3_acc = \\\n",
        "model.evaluate_generator(test_datagen, \n",
        "                        steps=len(df_val))\n",
        "\n",
        "print('val_loss:', val_loss)\n",
        "print('val_cat_acc:', val_cat_acc)\n",
        "print('val_top_2_acc:', val_top_2_acc)\n",
        "print('val_top_3_acc:', val_top_3_acc)"
      ],
      "execution_count": null,
      "outputs": []
    },
    {
      "cell_type": "code",
      "metadata": {
        "id": "Ug0czSboCAXA",
        "colab_type": "code",
        "colab": {}
      },
      "source": [
        "# display the curves\n",
        "\n",
        "acc = history.history['categorical_accuracy']\n",
        "val_acc = history.history['val_categorical_accuracy']\n",
        "loss = history.history['loss']\n",
        "val_loss = history.history['val_loss']\n",
        "train_top2_acc = history.history['top_2_accuracy']\n",
        "val_top2_acc = history.history['val_top_2_accuracy']\n",
        "train_top3_acc = history.history['top_3_accuracy']\n",
        "val_top3_acc = history.history['val_top_3_accuracy']\n",
        "epochs = range(1, len(acc) + 1)\n",
        "\n",
        "# curve loss\n",
        "plt.plot(epochs, loss, 'r', label='Training loss')\n",
        "plt.plot(epochs, val_loss, 'b', label='Validation loss')\n",
        "plt.title('Training and validation loss')\n",
        "plt.xlabel('Epoch')\n",
        "plt.ylabel('Loss')\n",
        "plt.legend()\n",
        "plt.figure()\n",
        "\n",
        "# curve cat accuracy\n",
        "plt.plot(epochs, acc, 'r', label='Training cat acc')\n",
        "plt.plot(epochs, val_acc, 'b', label='Validation cat acc')\n",
        "plt.title('Training and validation cat accuracy')\n",
        "plt.xlabel('Epoch')\n",
        "plt.ylabel('Accuracy')\n",
        "plt.legend()\n",
        "plt.figure()\n",
        "\n",
        "# curve top2 accuracy\n",
        "plt.plot(epochs, train_top2_acc, 'r', label='Training top2 acc')\n",
        "plt.plot(epochs, val_top2_acc, 'b', label='Validation top2 acc')\n",
        "plt.title('Training and validation top2 accuracy')\n",
        "plt.xlabel('Epoch')\n",
        "plt.ylabel('Accuracy')\n",
        "plt.legend()\n",
        "plt.figure()\n",
        "\n",
        "# curve top3 acc\n",
        "plt.plot(epochs, train_top3_acc, 'r', label='Training top3 acc')\n",
        "plt.plot(epochs, val_top3_acc, 'b', label='Validation top3 acc')\n",
        "plt.title('Training and validation top3 accuracy')\n",
        "plt.xlabel('Epoch')\n",
        "plt.ylabel('Accuracy')\n",
        "plt.legend()\n",
        "\n",
        "plt.show()"
      ],
      "execution_count": null,
      "outputs": []
    },
    {
      "cell_type": "code",
      "metadata": {
        "id": "MmbVBj4EKORA",
        "colab_type": "code",
        "colab": {}
      },
      "source": [
        "# Get the labels of the test images\n",
        "test_labels = test_datagenerator.classes"
      ],
      "execution_count": null,
      "outputs": []
    },
    {
      "cell_type": "code",
      "metadata": {
        "id": "_iBDL3k4KUt_",
        "colab_type": "code",
        "colab": {}
      },
      "source": [
        "# We need these to plot the confusion matrix.\n",
        "test_labels"
      ],
      "execution_count": null,
      "outputs": []
    },
    {
      "cell_type": "code",
      "metadata": {
        "id": "a0-DYG3QKc2u",
        "colab_type": "code",
        "colab": {}
      },
      "source": [
        "# Print the label associated with each class\n",
        "test_datagen.class_indices"
      ],
      "execution_count": null,
      "outputs": []
    },
    {
      "cell_type": "code",
      "metadata": {
        "id": "DCpqixrkKjSW",
        "colab_type": "code",
        "colab": {}
      },
      "source": [
        "# make a prediction\n",
        "predictions = model.predict_generator(test_datagen, steps=len(df_val), verbose=1)"
      ],
      "execution_count": null,
      "outputs": []
    },
    {
      "cell_type": "code",
      "metadata": {
        "id": "oA3Y6K12L2rJ",
        "colab_type": "code",
        "colab": {}
      },
      "source": [
        "predictions.shape"
      ],
      "execution_count": null,
      "outputs": []
    },
    {
      "cell_type": "code",
      "metadata": {
        "id": "G27zcpEdL-85",
        "colab_type": "code",
        "colab": {}
      },
      "source": [
        "# Source: Scikit Learn website\n",
        "# http://scikit-learn.org/stable/auto_examples/\n",
        "# model_selection/plot_confusion_matrix.html#sphx-glr-auto-examples-model-\n",
        "# selection-plot-confusion-matrix-py\n",
        "\n",
        "def plot_confusion_matrix(cm, classes,\n",
        "                          normalize=False,\n",
        "                          title='Confusion matrix',\n",
        "                          cmap=plt.cm.Blues):\n",
        "    \"\"\"\n",
        "    This function prints and plots the confusion matrix.\n",
        "    Normalization can be applied by setting `normalize=True`.\n",
        "    \"\"\"\n",
        "    if normalize:\n",
        "        cm = cm.astype('float') / cm.sum(axis=1)[:, np.newaxis]\n",
        "        print(\"Normalized confusion matrix\")\n",
        "    else:\n",
        "        print('Confusion matrix, without normalization')\n",
        "\n",
        "    print(cm)\n",
        "\n",
        "    plt.imshow(cm, interpolation='nearest', cmap=cmap)\n",
        "    plt.title(title)\n",
        "    plt.colorbar()\n",
        "    tick_marks = np.arange(len(classes))\n",
        "    plt.xticks(tick_marks, classes, rotation=45)\n",
        "    plt.yticks(tick_marks, classes)\n",
        "\n",
        "    fmt = '.2f' if normalize else 'd'\n",
        "    thresh = cm.max() / 2.\n",
        "    for i, j in itertools.product(range(cm.shape[0]), range(cm.shape[1])):\n",
        "        plt.text(j, i, format(cm[i, j], fmt),\n",
        "                 horizontalalignment=\"center\",\n",
        "                 color=\"white\" if cm[i, j] > thresh else \"black\")\n",
        "\n",
        "    plt.ylabel('True label')\n",
        "    plt.xlabel('Predicted label')\n",
        "    plt.tight_layout()"
      ],
      "execution_count": null,
      "outputs": []
    },
    {
      "cell_type": "code",
      "metadata": {
        "id": "sS8MDhi6MlUh",
        "colab_type": "code",
        "colab": {}
      },
      "source": [
        "test_labels.shape"
      ],
      "execution_count": null,
      "outputs": []
    },
    {
      "cell_type": "code",
      "metadata": {
        "id": "7MES_KnRMpkp",
        "colab_type": "code",
        "colab": {}
      },
      "source": [
        "# argmax returns the index of the max value in a row\n",
        "cm = confusion_matrix(test_labels, predictions.argmax(axis=1))"
      ],
      "execution_count": null,
      "outputs": []
    },
    {
      "cell_type": "code",
      "metadata": {
        "id": "p4vZ2Z_rMujp",
        "colab_type": "code",
        "colab": {}
      },
      "source": [
        "test_datagen.class_indices"
      ],
      "execution_count": null,
      "outputs": []
    },
    {
      "cell_type": "code",
      "metadata": {
        "id": "PEUIibLFM0Fo",
        "colab_type": "code",
        "colab": {}
      },
      "source": [
        "# Define the labels of the class indices. These need to match the \n",
        "# order shown above.\n",
        "cm_plot_labels = ['akiec', 'bcc', 'bkl', 'df', 'mel','nv', 'vasc']\n",
        "plot_confusion_matrix(cm, cm_plot_labels, title='Confusion Matrix')"
      ],
      "execution_count": null,
      "outputs": []
    },
    {
      "cell_type": "code",
      "metadata": {
        "id": "5l7hvrGiNVnB",
        "colab_type": "code",
        "colab": {}
      },
      "source": [
        "# Get the index of the class with the highest probability score\n",
        "y_pred = np.argmax(predictions, axis=1)\n",
        "\n",
        "# Get the labels of the test images.\n",
        "y_true = test_datagen.classes"
      ],
      "execution_count": null,
      "outputs": []
    },
    {
      "cell_type": "code",
      "metadata": {
        "id": "DHJ46TvMNb85",
        "colab_type": "code",
        "colab": {}
      },
      "source": [
        "# Generate a classification report\n",
        "report = classification_report(y_true, y_pred, target_names=cm_plot_labels)\n",
        "print(report)"
      ],
      "execution_count": null,
      "outputs": []
    },
    {
      "cell_type": "markdown",
      "metadata": {
        "id": "pQiE84M5j26u",
        "colab_type": "text"
      },
      "source": [
        "# SAVE MODEL\n"
      ]
    },
    {
      "cell_type": "code",
      "metadata": {
        "id": "kJpYl8BJj6r4",
        "colab_type": "code",
        "colab": {}
      },
      "source": [
        "# save the model for future use\n",
        "model.save(\"model_mobilenet_v2.h5\")"
      ],
      "execution_count": 46,
      "outputs": []
    },
    {
      "cell_type": "markdown",
      "metadata": {
        "id": "b_SVIBeQgZW8",
        "colab_type": "text"
      },
      "source": [
        "# CONVERT MODEL\n"
      ]
    },
    {
      "cell_type": "code",
      "metadata": {
        "id": "B1NWVMRdkDuW",
        "colab_type": "code",
        "colab": {}
      },
      "source": [
        "# convert to json\n",
        "import json\n",
        "json_string = model.to_json()\n",
        "f = open(\"../content/model_mobilenet_v2.json\", \"w\")\n",
        "json.dump(json_string, f)"
      ],
      "execution_count": 48,
      "outputs": []
    },
    {
      "cell_type": "code",
      "metadata": {
        "id": "eLcwFQTriHAE",
        "colab_type": "code",
        "colab": {}
      },
      "source": [
        "# convert the model to TFLite\n",
        "converter = tf.lite.TFLiteConverter.from_keras_model(model)\n",
        "tflite_model = converter.convert()\n",
        "with open('model_mobilenet_v2.tflite', 'wb') as f:\n",
        "  f.write(tflite_model)"
      ],
      "execution_count": 49,
      "outputs": []
    },
    {
      "cell_type": "code",
      "metadata": {
        "id": "vSMWa-6wQqL7",
        "colab_type": "code",
        "colab": {}
      },
      "source": [
        "# create labels cancer\n",
        "labels = '\\n'.join(sorted(train_datagenerator.class_indices.keys()))\n",
        "with open('labels.txt', 'w') as f:\n",
        "  f.write(labels)"
      ],
      "execution_count": null,
      "outputs": []
    },
    {
      "cell_type": "code",
      "metadata": {
        "id": "PFHfAnAtPvyu",
        "colab_type": "code",
        "colab": {}
      },
      "source": [
        "# download tflite and txt\n",
        "files.download('model_mobilenetv2.tflite')\n",
        "files.download('labels.txt')"
      ],
      "execution_count": null,
      "outputs": []
    }
  ]
}