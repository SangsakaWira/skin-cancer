{
  "nbformat": 4,
  "nbformat_minor": 0,
  "metadata": {
    "colab": {
      "name": "Skin-Cancer-Classification.ipynb",
      "provenance": []
    },
    "kernelspec": {
      "name": "python3",
      "display_name": "Python 3"
    }
  },
  "cells": [
    {
      "cell_type": "markdown",
      "metadata": {
        "id": "4fzTlAb1zZBB",
        "colab_type": "text"
      },
      "source": [
        "# UPLOAD DATASET SKIN CANCER MNIST HAM 10K\n"
      ]
    },
    {
      "cell_type": "markdown",
      "metadata": {
        "id": "C8kxZtkJ38eg",
        "colab_type": "text"
      },
      "source": [
        "Input Data \n",
        "\n",
        "The input data are dermoscopic lesion images in JPEG format.\n",
        "\n",
        "All lesion images are named using the scheme ISIC_<image_id>.jpg, where <image_id> is a 7-digit unique identifier. EXIF tags in the images have been removed; any remaining EXIF tags should not be relied upon to provide accurate metadata.\n",
        "\n",
        "The lesion images were acquired with a variety of dermatoscope types, from all anatomic sites (excluding mucosa and nails), from a historical sample of patients presented for skin cancer screening, from several different institutions. Every lesion image contains exactly one primary lesion; other fiducial markers, smaller secondary lesions, or other pigmented regions may be neglected.\n",
        "\n",
        "The distribution of disease states represent a modified “real world” setting whereby there are more benign lesions than malignant lesions, but an over-representation of malignancies."
      ]
    },
    {
      "cell_type": "markdown",
      "metadata": {
        "id": "wrEG3tW67UIh",
        "colab_type": "text"
      },
      "source": [
        "The images in the data-set are separated into the following seven types of skin cancer:\n",
        "\n",
        "**Actinic keratosis** is considered to be a noncancerous (benign) type of skin cancer. However, if left untreated, it usually develops into squamous cell carcinoma (which is cancerous).\n",
        "\n",
        "**Unlike actinic keratosis**, basal cell carcinoma is a cancerous type of skin lesion that develops in the basal cell layer located in the lower part of the epidermis. It is the most common type of skin cancer accounting for 80% of all cases.\n",
        "\n",
        "**enign keratosis** is a noncancerous and slow-growing type of skin cancer. They can be left untreated as they are typically harmless.\n",
        "\n",
        "**Dermatofibromas** are also noncancerous and usually harmless, thus no treatment is required. It is commonly found pinkish in color and appears like a round bump.\n",
        "\n",
        "**Melanoma** is a type of malignant skin cancer that originated from melanocytes, cells that are responsible for the pigment of your skin.\n",
        "\n",
        "**Melanocytic** nevi are a benign type of melanocytic tumor. Patients with melanocytic nevi are considered to be at a higher risk of melanoma.\n",
        "\n",
        "**Vascular** lesions are composed of a wide range of skin lesion including cherry angiomas, angiokeratomas, and pyogenic granulomas. They are similarly characterized as being red or purple in color and often appear as a raised bump."
      ]
    },
    {
      "cell_type": "code",
      "metadata": {
        "id": "x2YnDOKWztSy",
        "colab_type": "code",
        "colab": {}
      },
      "source": [
        "! pip install -q kaggle"
      ],
      "execution_count": 0,
      "outputs": []
    },
    {
      "cell_type": "code",
      "metadata": {
        "id": "5b63o3np0-RS",
        "colab_type": "code",
        "colab": {}
      },
      "source": [
        "from google.colab import files\n",
        "files.upload()"
      ],
      "execution_count": 0,
      "outputs": []
    },
    {
      "cell_type": "code",
      "metadata": {
        "id": "hE5EpDVn1B-a",
        "colab_type": "code",
        "colab": {}
      },
      "source": [
        "! mkdir ~/.kaggle\n",
        "! cp kaggle.json ~/.kaggle/\n",
        "! chmod 600 ~/.kaggle/kaggle.json"
      ],
      "execution_count": 0,
      "outputs": []
    },
    {
      "cell_type": "code",
      "metadata": {
        "id": "qVKWpvRj2XBy",
        "colab_type": "code",
        "colab": {}
      },
      "source": [
        "!kaggle datasets download -d kmader/skin-cancer-mnist-ham10000\n",
        "!unzip skin-cancer-mnist-ham10000"
      ],
      "execution_count": 0,
      "outputs": []
    }
  ]
}